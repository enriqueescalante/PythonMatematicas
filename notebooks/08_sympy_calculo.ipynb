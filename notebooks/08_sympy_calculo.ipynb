{
 "cells": [
  {
   "cell_type": "markdown",
   "metadata": {},
   "source": [
    "<font size = 1 color=\"gray\">Introducción a la computación numérica y simbólica con Python</font>  \n",
    "\n",
    "<img src=\"img/logo-vector-u-tad.jpg\" align=\"left\" >"
   ]
  },
  {
   "cell_type": "markdown",
   "metadata": {},
   "source": [
    "# 8. Cálculo simbólico\n",
    "\n",
    "Con SymPy, podemos derivar, integrar o resolver ecuaciones diferenciales de forma analitica, de forma muy parecida a cómo lo hacemos con papel y lápiz, pero con la ventaja de que el ordenador nos ofrece la solución."
   ]
  },
  {
   "cell_type": "markdown",
   "metadata": {},
   "source": [
    "## Límites\n",
    "\n",
    "SymPy ofrece la función `limit` para realizar esta operación. Empecemos por un caso sencillo.\n",
    "\n",
    "$\\lim_{x \\to 1} \\frac{x-1}{x+1}$"
   ]
  },
  {
   "cell_type": "code",
   "execution_count": 1,
   "metadata": {
    "scrolled": true
   },
   "outputs": [
    {
     "name": "stdout",
     "output_type": "stream",
     "text": [
      "x - 1\n",
      "─────\n",
      "x + 1\n",
      "\n",
      "El límite cuando tiende a 1 es 0\n",
      "El límite cuando tiende a infinito es 1\n"
     ]
    }
   ],
   "source": [
    "import numpy as np\n",
    "import scipy as sci\n",
    "import matplotlib.pyplot as plt\n",
    "import sympy as sp\n",
    "sp.init_printing()                                           # Esto es para que las expresiones se impriman bonitas\n",
    "\n",
    "x, expresion = sp.symbols('x expresion')                        # Siempre hay que definir los símbolos antes de usarlos\n",
    "\n",
    "expresion = (x-1)/(x+1)\n",
    "sp.pprint(expresion)\n",
    "limite_1 = sp.limit(expresion,x,1)\n",
    "print()\n",
    "print(\"El límite cuando tiende a 1 es\",limite_1)\n",
    "\n",
    "# También puede calcularse el límite cuando la varaible independiente tiende a infinito de la siguiente forma\n",
    "\n",
    "limite_inf = sp.limit(expresion,x,sp.oo)\n",
    "print(\"El límite cuando tiende a infinito es\",limite_inf)"
   ]
  },
  {
   "cell_type": "markdown",
   "metadata": {},
   "source": [
    "Probemos con otro límite más complicado $\\lim_{x \\to 0} \\frac{\\sin(x)}{x}$, para el que sabemos que hay que aplicar la regla de L'Hôpital $\\lim_{x \\to 0} \\frac{d\\sin(x)/dx}{dx/dx} = \\lim_{x \\to 0} \\cos(x) = 1$. SymPy lo hace por nosotros sin tener que especificarlo."
   ]
  },
  {
   "cell_type": "code",
   "execution_count": 2,
   "metadata": {},
   "outputs": [
    {
     "name": "stdout",
     "output_type": "stream",
     "text": [
      "sin(x)\n",
      "──────\n",
      "  x   \n",
      "\n",
      "El límite cuando tiende a 0 es  1\n"
     ]
    }
   ],
   "source": [
    "expresion = sp.sin(x)/x\n",
    "sp.pprint(expresion)\n",
    "\n",
    "limite_0 = sp.limit(expresion,x,0)\n",
    "print()\n",
    "print(\"El límite cuando tiende a 0 es \",limite_0)"
   ]
  },
  {
   "cell_type": "markdown",
   "metadata": {},
   "source": [
    "Calcular los límites siguientes:\n",
    "    \n",
    "$\\lim_{x \\to \\infty} (\\frac{x+3}{x})^x$\n",
    "\n",
    "$\\lim_{x \\to 5} { {2-\\sqrt{x-1}}\\over{x^2-25} }$\n",
    "\n",
    "$\\lim_{x \\to \\infty} x(\\sqrt{x^2+1}-x)$"
   ]
  },
  {
   "cell_type": "markdown",
   "metadata": {},
   "source": [
    "Primero lo hacemos analíticamente. \n",
    "\n",
    "$\\lim_{x \\to \\infty} (\\frac{x+3}{x})^x$. Es una indeterminación del tipo $1^\\infty$. Tenemos que convertir la expresión en una variante de $\\lim_{x \\to \\infty} (1+\\frac{1}{x})^x = e$. Es sencillo, haciendo el cambio de variable $y = x/3$.\n",
    "\n",
    "$\\lim_{x \\to \\infty} (\\frac{x+3}{x})^x = \\lim_{x \\to \\infty} (1+\\frac{1}{x/3})^x = \\lim_{y \\to \\infty} (1+\\frac{1}{y})^{3y} =(\\lim_{y \\to \\infty} (1+\\frac{1}{y})^{y})^3=e^3$.\n",
    "\n",
    "\n",
    "$\\lim_{x \\to 5} { {2-\\sqrt{x-1}}\\over{x^2-25} }$ es una indeterminación $\\frac{\\infty}{\\infty}$. Para resolverla, racionalizamos y simplificamos.\n",
    "\n",
    "$\\lim_{x \\to 5} { {2-\\sqrt{x-1}}\\over{x^2-25} } = \\lim_{x \\to 5} { {(2-\\sqrt{x-1})(2+\\sqrt{x-1})}\\over{(x^2-25)(2+\\sqrt{x-1})}} =  \\lim_{x \\to 5} { {4-(x-1)}\\over{(x-5)(x+5)(2+\\sqrt{x-1})}} =  \\lim_{x \\to 5} {-1\\over{(x+5)(2+\\sqrt{x-1})}} = {-1\\over(10\\times 4)} = \\frac{-1}{40}$\n",
    "\n",
    "\n",
    "$\\lim_{x \\to \\infty} x(\\sqrt{x^2+1}-x)$ es un indeterminación de la forma $\\infty\\times(\\infty-\\infty)$. Multipicamos numerador y denominador por la expresión $\\sqrt{x^2+1}+x$ y simplificamos.\n",
    "\n",
    "$\\lim_{x \\to \\infty} {{x(\\sqrt{x^2+1}-x)(\\sqrt{x^2+1}+x)}\\over{\\sqrt{x^2+1}+x}}$ = \n",
    "$\\lim_{x \\to \\infty} {{x(x^2+1-x^2)}\\over{\\sqrt{x^2+1}+x}}$ =\n",
    "$\\lim_{x \\to \\infty} {{x}\\over{\\sqrt{x^2+1}+x}}$ = $\\lim_{x \\to \\infty} {{1}\\over{\\sqrt{1+1/x^2}+1}} = \\frac{1}{2}$"
   ]
  },
  {
   "cell_type": "markdown",
   "metadata": {},
   "source": [
    "Ahora dejamos que SymPy lo haga por nosotros."
   ]
  },
  {
   "cell_type": "code",
   "execution_count": 3,
   "metadata": {},
   "outputs": [
    {
     "name": "stdout",
     "output_type": "stream",
     "text": [
      "((x + 3)/x)**x\n",
      "El límite cuando x tiende a infinito es  exp(3)\n",
      "(2 - sqrt(x - 1))/(x**2 - 25)\n",
      "El límite cuando x tiende a infinito es  -1/40\n",
      "x*(-x + sqrt(x**2 + 1))\n",
      "El límite cuando x tiende a infinito es  1/2\n"
     ]
    }
   ],
   "source": [
    "expresion = ((x+3)/x)**x\n",
    "print(expresion)\n",
    "limite_inf = sp.limit(expresion,x,sp.oo)\n",
    "print(\"El límite cuando x tiende a infinito es \",limite_inf)\n",
    "\n",
    "expresion = (2-sp.sqrt(x-1))/(x**2-25)\n",
    "print(expresion)\n",
    "limite_5 = sp.limit(expresion,x,5)\n",
    "print(\"El límite cuando x tiende a infinito es \",limite_5)\n",
    "\n",
    "expresion = x*(sp.sqrt(x**2+1)-x)\n",
    "print(expresion)\n",
    "limite_inf = sp.limit(expresion,x,sp.oo)\n",
    "print(\"El límite cuando x tiende a infinito es \",limite_inf)"
   ]
  },
  {
   "cell_type": "markdown",
   "metadata": {},
   "source": [
    "Si la función tiende a infinito, SymPy nos avisa.\n",
    "\n",
    "$\\lim_{x \\to 0} \\frac{1}{|x|}$"
   ]
  },
  {
   "cell_type": "code",
   "execution_count": 4,
   "metadata": {},
   "outputs": [
    {
     "name": "stdout",
     "output_type": "stream",
     "text": [
      " 1 \n",
      "───\n",
      "│x│\n",
      "\n",
      "El límite cuando x tiende a 0 es oo\n"
     ]
    }
   ],
   "source": [
    "expresion = 1/sp.Abs(x)\n",
    "sp.pprint(expresion)\n",
    "\n",
    "limite_0 = sp.limit(expresion,x,0)\n",
    "print()\n",
    "print(\"El límite cuando x tiende a 0 es\",limite_0)"
   ]
  },
  {
   "cell_type": "markdown",
   "metadata": {},
   "source": [
    "Cuando los límites laterales son diferentes, SymPy devuelve por defecto el límite por la derecha.\n",
    "\n",
    "$\\lim_{x \\to 0+} \\frac{|x|}{x} = 1$\n",
    "\n",
    "$\\lim_{x \\to 0-} \\frac{|x|}{x} = -1$"
   ]
  },
  {
   "cell_type": "code",
   "execution_count": 5,
   "metadata": {
    "scrolled": true
   },
   "outputs": [
    {
     "name": "stdout",
     "output_type": "stream",
     "text": [
      "│x│\n",
      "───\n",
      " x \n",
      "\n",
      "El límite cuando x tiende a 0 es 1\n",
      "El límite cuando x tiende a 0 por la derecha es 1\n",
      "El límite cuando x tiende a 0 por la izquierda es -1\n"
     ]
    }
   ],
   "source": [
    "expresion = sp.Abs(x)/x\n",
    "sp.pprint(expresion)\n",
    "\n",
    "limite_0 = sp.limit(expresion,x,0)\n",
    "print()\n",
    "print(\"El límite cuando x tiende a 0 es\",limite_0)\n",
    "\n",
    "limite_0plus = sp.limit(expresion,x,0,'+')\n",
    "print(\"El límite cuando x tiende a 0 por la derecha es\",limite_0plus)\n",
    "\n",
    "limite_0minus = sp.limit(expresion,x,0,'-')\n",
    "print(\"El límite cuando x tiende a 0 por la izquierda es\",limite_0minus)"
   ]
  },
  {
   "cell_type": "markdown",
   "metadata": {},
   "source": [
    "## Derivación\n",
    "\n",
    "Para derivar una expresión algebraica con SymPy basta aplicar la función `diff()` o el método del mismo nombre.\n",
    "\n",
    "$\\frac{d}{dt} (8t^2+3t+sin(2t)) = 16t^2+3+2cos(2t)$"
   ]
  },
  {
   "cell_type": "code",
   "execution_count": 6,
   "metadata": {},
   "outputs": [
    {
     "name": "stdout",
     "output_type": "stream",
     "text": [
      "   2                 \n",
      "8⋅t  + 3⋅t + sin(2⋅t)\n",
      "df/dt = 16⋅t + 2⋅cos(2⋅t) + 3\n",
      "f'(0)= 5.0\n"
     ]
    }
   ],
   "source": [
    "t = sp.symbols('t')\n",
    "expresion = 8*t**2+3*t+sp.sin(2*t)\n",
    "sp.pprint(expresion)\n",
    "print(\"df/dt = \",end = '')\n",
    "deriv = sp.diff(expresion)\n",
    "sp.pprint(deriv)\n",
    "print(\"f'(0)=\",(deriv.subs(t,0)).evalf(2))"
   ]
  },
  {
   "cell_type": "code",
   "execution_count": 7,
   "metadata": {},
   "outputs": [
    {
     "data": {
      "text/plain": [
       "<matplotlib.legend.Legend at 0x1d24ce4d988>"
      ]
     },
     "execution_count": 7,
     "metadata": {},
     "output_type": "execute_result"
    },
    {
     "data": {
      "image/png": "[encoded data removed]",
      "text/plain": [
       "<Figure size 432x288 with 1 Axes>"
      ]
     },
     "metadata": {
      "needs_background": "light"
     },
     "output_type": "display_data"
    }
   ],
   "source": [
    "exprime, fprime = sp.symbols('exprime fprime')\n",
    "t = np.linspace(0,2*np.pi,1000) \n",
    "expresionmat = sp.sin(x)\n",
    "f = sp.lambdify(x, expresionmat, \"numpy\")  # Convierte la expresión simbólica a la funciones equivalentes de de NumPy\n",
    "plt.plot(t,f(t),label=\"f(t)\") \n",
    "exprime = sp.diff(expresionmat)\n",
    "fprime = sp.lambdify(x, exprime, \"numpy\")\n",
    "plt.title(expresionmat)\n",
    "plt.plot(t,fprime(t),label=\"f'(t)\")\n",
    "plt.legend()"
   ]
  },
  {
   "cell_type": "markdown",
   "metadata": {},
   "source": [
    "Podemos aplicar `diff` repetidas veces para calcular derivadas de orden superior."
   ]
  },
  {
   "cell_type": "code",
   "execution_count": 8,
   "metadata": {},
   "outputs": [
    {
     "data": {
      "text/plain": [
       "<matplotlib.legend.Legend at 0x1d24cb29188>"
      ]
     },
     "execution_count": 8,
     "metadata": {},
     "output_type": "execute_result"
    },
    {
     "data": {
      "image/png": "[encoded data removed]",
      "text/plain": [
       "<Figure size 576x360 with 1 Axes>"
      ]
     },
     "metadata": {
      "needs_background": "light"
     },
     "output_type": "display_data"
    }
   ],
   "source": [
    "exprime2, fprime2 = sp.symbols('exprime2 fprime2')\n",
    "t = np.linspace(0,4*np.pi,1000) \n",
    "expresionmat = sp.cos(x)-0.1*sp.sin(2*x)\n",
    "f = sp.lambdify(x, expresionmat, \"numpy\")  # Convierte la expresión simbólica a la funciones equivalentes de de NumPy\n",
    "plt.figure(figsize=(8,5))\n",
    "plt.plot(t,f(t),label=\"f(t)\") \n",
    "exprime = sp.diff(expresionmat)\n",
    "fprime = sp.lambdify(x, exprime, \"numpy\")\n",
    "plt.title(expresionmat)\n",
    "plt.plot(t,fprime(t),label=\"f'(t)\")\n",
    "exprime2 = sp.diff(expresionmat,x,2)\n",
    "fprime2 = sp.lambdify(x, exprime2, \"numpy\")\n",
    "plt.plot(t,fprime2(t),label=\"f''(t)\")\n",
    "plt.legend()"
   ]
  },
  {
   "cell_type": "markdown",
   "metadata": {},
   "source": [
    "SymPy dispone de la función `series` para obtener el desarrollo de Taylor."
   ]
  },
  {
   "cell_type": "code",
   "execution_count": 9,
   "metadata": {},
   "outputs": [
    {
     "data": {
      "image/png": "[encoded data removed]",
      "text/latex": [
       "$\\displaystyle 1 + x + \\frac{x^{2}}{2} + \\frac{x^{3}}{6} + \\frac{x^{4}}{24} + \\frac{x^{5}}{120} + O\\left(x^{6}\\right)$"
      ],
      "text/plain": [
       "         2    3    4     5        \n",
       "        x    x    x     x     ⎛ 6⎞\n",
       "1 + x + ── + ── + ── + ─── + O⎝x ⎠\n",
       "        2    6    24   120        "
      ]
     },
     "execution_count": 9,
     "metadata": {},
     "output_type": "execute_result"
    }
   ],
   "source": [
    "expr = sp.exp(x)\n",
    "st = expr.series(x, 0, 6)\n",
    "st"
   ]
  },
  {
   "cell_type": "code",
   "execution_count": 10,
   "metadata": {},
   "outputs": [
    {
     "data": {
      "image/png": "[encoded data removed]",
      "text/latex": [
       "$\\displaystyle 2.7166667$"
      ],
      "text/plain": [
       "2.7166667"
      ]
     },
     "execution_count": 10,
     "metadata": {},
     "output_type": "execute_result"
    }
   ],
   "source": [
    "# Cálculo de la aproximación para x=1, es decir, e\n",
    "aprox = st.removeO().subs(x, 1).evalf(8)\n",
    "aprox"
   ]
  },
  {
   "cell_type": "code",
   "execution_count": 11,
   "metadata": {},
   "outputs": [
    {
     "data": {
      "text/plain": [
       "<matplotlib.legend.Legend at 0x1d24dfdec88>"
      ]
     },
     "execution_count": 11,
     "metadata": {},
     "output_type": "execute_result"
    },
    {
     "data": {
      "image/png": "[encoded data removed]",
      "text/plain": [
       "<Figure size 576x360 with 1 Axes>"
      ]
     },
     "metadata": {
      "needs_background": "light"
     },
     "output_type": "display_data"
    }
   ],
   "source": [
    "xx = np.linspace(0,3,100)\n",
    "yy = []\n",
    "for i in xx:\n",
    "    expr = st.removeO()\n",
    "    yy.append(expr.subs(x, i).evalf(8))\n",
    "plt.figure(figsize=(8,5))\n",
    "plt.title(\"Aproximación de exp(x)\")\n",
    "plt.plot(xx,yy,label=\"Taylor\") \n",
    "plt.plot(xx,np.exp(xx),label=\"exp(x)\")\n",
    "plt.legend()"
   ]
  },
  {
   "cell_type": "markdown",
   "metadata": {},
   "source": [
    "## Integración\n",
    "\n",
    "Sympy dispode de la función `integrate` para calcular tanto integrales indefinidas como definidas.\n",
    "\n",
    "$\\int te^tdt$"
   ]
  },
  {
   "cell_type": "code",
   "execution_count": 12,
   "metadata": {},
   "outputs": [
    {
     "name": "stdout",
     "output_type": "stream",
     "text": [
      "La integral indefinida de\n",
      "   t\n",
      "t⋅ℯ \n",
      "es\n",
      "         t\n",
      "(t - 1)⋅ℯ \n"
     ]
    }
   ],
   "source": [
    "t = sp.symbols('t')\n",
    "integral = sp.symbols('integral')\n",
    "expresion = t*sp.exp(t)\n",
    "integral = sp.integrate(expresion, t)\n",
    "print (\"La integral indefinida de\")\n",
    "sp.pprint(expresion)\n",
    "print (\"es\")\n",
    "sp.pprint(integral)"
   ]
  },
  {
   "cell_type": "markdown",
   "metadata": {},
   "source": [
    "El cálculo de una integral definida se hace de la misma manera indicando los límites de integración\n",
    "\n",
    "$\\int _{0}^{2}x^2dx$"
   ]
  },
  {
   "cell_type": "code",
   "execution_count": 13,
   "metadata": {},
   "outputs": [
    {
     "name": "stdout",
     "output_type": "stream",
     "text": [
      " 2\n",
      "x \n",
      "La integral entre 0 y 2 vale 8/3\n"
     ]
    }
   ],
   "source": [
    "expresion = x**2\n",
    "sp.pprint(expresion)\n",
    "print (\"La integral entre 0 y 2 vale\", sp.integrate(expresion, (x,0,2)))"
   ]
  },
  {
   "cell_type": "markdown",
   "metadata": {},
   "source": [
    "En la lección de integración numérica calculamos el volumen encerrado por la superficie $e^{\\sqrt{x^2+y^2}}$ dentro del círculo de radio $1$ como $2\\pi \\int_{0}^{1}re^r dr = 2\\pi (re^r - e^r) \\Big|_0^1 = 2\\pi$"
   ]
  },
  {
   "cell_type": "code",
   "execution_count": 14,
   "metadata": {},
   "outputs": [
    {
     "name": "stdout",
     "output_type": "stream",
     "text": [
      "El volumen entre el plano z=0 y la superficie\n",
      "       t\n",
      "2⋅π⋅t⋅ℯ \n",
      "dentro del círculo de radio unidad es\n",
      "2⋅π\n"
     ]
    }
   ],
   "source": [
    "# El mismo cálculo con SymPy\n",
    "expresion = 2*sp.pi*t*sp.exp(t)\n",
    "integral = sp.integrate(expresion, (t,0,1))\n",
    "print (\"El volumen entre el plano z=0 y la superficie\")\n",
    "sp.pprint(expresion)\n",
    "print (\"dentro del círculo de radio unidad es\")\n",
    "sp.pprint(integral)"
   ]
  },
  {
   "cell_type": "markdown",
   "metadata": {},
   "source": [
    "SymPy es capaz de integrar expresiones como la integral de Dirichlet de la función $sinc(x)$\n",
    "\n",
    "$\\int _{0}^{\\infty}\\frac{sin(x)}{x} dx$"
   ]
  },
  {
   "cell_type": "code",
   "execution_count": 15,
   "metadata": {},
   "outputs": [
    {
     "name": "stdout",
     "output_type": "stream",
     "text": [
      "sin(x)\n",
      "──────\n",
      "  x   \n",
      "La integral entre 0 e infinito vale pi/2\n"
     ]
    }
   ],
   "source": [
    "expresion = sp.sin(x)/x\n",
    "sp.pprint(expresion)\n",
    "print (\"La integral entre 0 e infinito vale\", sp.integrate(expresion, (x,0,sp.oo)))"
   ]
  },
  {
   "cell_type": "markdown",
   "metadata": {},
   "source": [
    "La siguiente integral muestra que SymPy es nivel superhéroe en cálculo."
   ]
  },
  {
   "cell_type": "code",
   "execution_count": 16,
   "metadata": {},
   "outputs": [
    {
     "data": {
      "image/png": "[encoded data removed]",
      "text/latex": [
       "$\\displaystyle \\begin{cases} \\Gamma\\left(y\\right) & \\text{for}\\: \\operatorname{re}{\\left(y\\right)} - 1 > -1 \\\\\\int\\limits_{0}^{\\infty} x^{y - 1} e^{- x}\\, dx & \\text{otherwise} \\end{cases}$"
      ],
      "text/plain": [
       "⎧     Γ(y)        for re(y) - 1 > -1\n",
       "⎪                                   \n",
       "⎪∞                                  \n",
       "⎪⌠                                  \n",
       "⎨⎮  y - 1  -x                       \n",
       "⎪⎮ x     ⋅ℯ   dx      otherwise     \n",
       "⎪⌡                                  \n",
       "⎪0                                  \n",
       "⎩                                   "
      ]
     },
     "execution_count": 16,
     "metadata": {},
     "output_type": "execute_result"
    }
   ],
   "source": [
    "x, y= sp.symbols(\"x y\")\n",
    "sp.integrate(x**(y-1)*sp.exp(-x), (x, 0, sp.oo))"
   ]
  },
  {
   "cell_type": "markdown",
   "metadata": {},
   "source": [
    "En efecto, $\\Gamma(y) = \\int_0^\\infty x^{y-1} e^{-x}\\,dx \\,\\!$. La función gamma fue definida por Adrien-Marie Legendre y si $n$ es un entero positivo se cumple que $\\Gamma(n) = (n-1)!$"
   ]
  },
  {
   "cell_type": "code",
   "execution_count": 17,
   "metadata": {},
   "outputs": [
    {
     "data": {
      "image/png": "[encoded data removed]",
      "text/latex": [
       "$\\displaystyle 5040$"
      ],
      "text/plain": [
       "5040"
      ]
     },
     "execution_count": 17,
     "metadata": {},
     "output_type": "execute_result"
    }
   ],
   "source": [
    "sp.gamma(8)"
   ]
  },
  {
   "cell_type": "code",
   "execution_count": 18,
   "metadata": {},
   "outputs": [
    {
     "data": {
      "image/png": "[encoded data removed]",
      "text/latex": [
       "$\\displaystyle 5040$"
      ],
      "text/plain": [
       "5040"
      ]
     },
     "execution_count": 18,
     "metadata": {},
     "output_type": "execute_result"
    }
   ],
   "source": [
    "sci.math.factorial(7)"
   ]
  },
  {
   "cell_type": "markdown",
   "metadata": {},
   "source": [
    "SymPy también permite calcular integrales múltiples, aunque en este curso de introducción solo hemos visto un ejemplo muy sencillo de cálculo de varias variables. Hallar el volumen definido por el triángulo definido por el eje $X$ entre $0$ y $1$, la recta $y=x$ y la superficie $f(x,y) = xy$.\n",
    "\n",
    "$\\int_{0}^{1}\\int_{0}^{x}xydxdy  = \\int_{0}^{1} x\\frac{y^2}{2}\\Big|_0^x =\\int_{0}^{1} \\frac{x^3}{2} = \\frac{x^4}{8}\\Big|_0^x = \\frac{1}{8}$ \n"
   ]
  },
  {
   "cell_type": "code",
   "execution_count": 19,
   "metadata": {},
   "outputs": [
    {
     "name": "stdout",
     "output_type": "stream",
     "text": [
      "Integral entre x(0,1) con y=x de x⋅y\n",
      "1/8\n"
     ]
    }
   ],
   "source": [
    "from sympy import *\n",
    "\n",
    "f = y*x\n",
    "print(\"Integral entre x(0,1) con y=x de \",end='')\n",
    "sp.pprint(f)\n",
    "res = sp.integrate(f,  (y, 0, x), (x, 0, 1))\n",
    "print(res)"
   ]
  },
  {
   "cell_type": "markdown",
   "metadata": {},
   "source": [
    "## Ecuaciones diferenciales\n",
    "\n",
    "Sympy también es capaz de resolver ecuaciones diferenciales de forma simbólica. Comenzamos por la ecuación que modela el proceso de disminución exponencial de una magnitud $x$ que ya vimos que es $\\frac{dN(t)}{dt}=-kN$"
   ]
  },
  {
   "cell_type": "code",
   "execution_count": 20,
   "metadata": {},
   "outputs": [
    {
     "data": {
      "image/png": "[encoded data removed]",
      "text/latex": [
       "$\\displaystyle \\frac{d}{d t} N{\\left(t \\right)} = - k N{\\left(t \\right)}$"
      ],
      "text/plain": [
       "d                 \n",
       "──(N(t)) = -k⋅N(t)\n",
       "dt                "
      ]
     },
     "execution_count": 20,
     "metadata": {},
     "output_type": "execute_result"
    }
   ],
   "source": [
    "# Definición de la ecuación diferencial\n",
    "\n",
    "k = sp.symbols('k')\n",
    "N = sp.symbols('N', cls=sp.Function)\n",
    "diffeq = sp.Eq(N(t).diff(t), -k*N(t))\n",
    "diffeq"
   ]
  },
  {
   "cell_type": "code",
   "execution_count": 21,
   "metadata": {},
   "outputs": [
    {
     "data": {
      "image/png": "[encoded data removed]",
      "text/latex": [
       "$\\displaystyle N{\\left(t \\right)} = C_{1} e^{- k t}$"
      ],
      "text/plain": [
       "           -k⋅t\n",
       "N(t) = C₁⋅ℯ    "
      ]
     },
     "execution_count": 21,
     "metadata": {},
     "output_type": "execute_result"
    }
   ],
   "source": [
    "# Resolución de la ecuación\n",
    "\n",
    "soln = sp.dsolve(diffeq,N(t))\n",
    "soln"
   ]
  },
  {
   "cell_type": "code",
   "execution_count": 22,
   "metadata": {},
   "outputs": [
    {
     "data": {
      "image/png": "[encoded data removed]",
      "text/latex": [
       "$\\displaystyle \\left\\{ C_{1} : 1000\\right\\}$"
      ],
      "text/plain": [
       "{C₁: 1000}"
      ]
     },
     "execution_count": 22,
     "metadata": {},
     "output_type": "execute_result"
    }
   ],
   "source": [
    "# Aplicación de las condiciones iniciales. Supongamos que N(0)= 1000\n",
    "\n",
    "constantes = sp.solve([soln.rhs.subs(t,0) - 1000])\n",
    "constantes\n"
   ]
  },
  {
   "cell_type": "code",
   "execution_count": 23,
   "metadata": {},
   "outputs": [
    {
     "data": {
      "image/png": "[encoded data removed]",
      "text/latex": [
       "$\\displaystyle N{\\left(t \\right)} = 1000 e^{- k t}$"
      ],
      "text/plain": [
       "             -k⋅t\n",
       "N(t) = 1000⋅ℯ    "
      ]
     },
     "execution_count": 23,
     "metadata": {},
     "output_type": "execute_result"
    }
   ],
   "source": [
    "C1 = sp.symbols('C1')\n",
    "soln = soln.subs(constantes)\n",
    "soln"
   ]
  },
  {
   "cell_type": "code",
   "execution_count": 24,
   "metadata": {},
   "outputs": [
    {
     "name": "stdout",
     "output_type": "stream",
     "text": [
      "1000*exp(-0.1*t)\n"
     ]
    },
    {
     "data": {
      "image/png": "[encoded data removed]",
      "text/plain": [
       "<Figure size 576x360 with 1 Axes>"
      ]
     },
     "metadata": {
      "needs_background": "light"
     },
     "output_type": "display_data"
    }
   ],
   "source": [
    "import math\n",
    "soln = soln.subs(k,0.1)\n",
    "print(soln.rhs)\n",
    "func = sp.lambdify(t, soln.rhs, \"math\")  # Convierte la expresión simbólica a la funciones equivalentes de de NumPy\n",
    "xpuntos = np.linspace(0,50,1000)\n",
    "ypuntos = []\n",
    "for i in xpuntos:\n",
    "    ypuntos.append(func(i)) \n",
    "plt.figure(figsize=(8,5)) # tamaño de la gráfica en pulgadas\n",
    "plt.plot(xpuntos,ypuntos)\n",
    "plt.title(soln.rhs)\n",
    "plt.xlabel('$x$') # título del eje horizontal\n",
    "plt.ylabel('$y$') # título del eje  vertical\n",
    "plt.show()"
   ]
  },
  {
   "cell_type": "markdown",
   "metadata": {},
   "source": [
    "El procedimiento paso a paso es muy similar al que seguimos cuando resolvemos a mano este tipo de problemas. La resolución numérica de este mismo caso es mucho más rápida en tiempo y código."
   ]
  },
  {
   "cell_type": "code",
   "execution_count": 25,
   "metadata": {},
   "outputs": [
    {
     "data": {
      "text/plain": [
       "[<matplotlib.lines.Line2D at 0x1d24e988488>]"
      ]
     },
     "execution_count": 25,
     "metadata": {},
     "output_type": "execute_result"
    },
    {
     "data": {
      "image/png": "[encoded data removed]",
      "text/plain": [
       "<Figure size 576x360 with 1 Axes>"
      ]
     },
     "metadata": {
      "needs_background": "light"
     },
     "output_type": "display_data"
    }
   ],
   "source": [
    "from scipy.integrate import solve_ivp\n",
    "instantes = np.linspace(0, 50, 200)\n",
    "sol = solve_ivp(lambda x,t:-0.1*t, (0, 200), np.array([1000]), t_eval = instantes )\n",
    "plt.figure(figsize=(8,5)) # tamaño de la gráfica en pulgadas\n",
    "plt.plot(sol.t, sol.y[0, :], '-')"
   ]
  },
  {
   "cell_type": "markdown",
   "metadata": {},
   "source": [
    "Con SymPy también podemos resolver ecuaciones de grado superior, como la del oscilador amortiguado.\n",
    "\n",
    "$\\frac{d^2y}{dt^2}+ 3\\frac{dy}{dt} + y = 0 ; y(0) = 1 ; y'(0) = 0$"
   ]
  },
  {
   "cell_type": "code",
   "execution_count": 26,
   "metadata": {},
   "outputs": [
    {
     "data": {
      "image/png": "[encoded data removed]",
      "text/latex": [
       "$\\displaystyle y{\\left(t \\right)} = \\left(C_{1} \\sin{\\left(0.988685996664259 t \\right)} + C_{2} \\cos{\\left(0.988685996664259 t \\right)}\\right) e^{- 0.15 t}$"
      ],
      "text/plain": [
       "                                                                    -0.15⋅t\n",
       "y(t) = (C₁⋅sin(0.988685996664259⋅t) + C₂⋅cos(0.988685996664259⋅t))⋅ℯ       "
      ]
     },
     "execution_count": 26,
     "metadata": {},
     "output_type": "execute_result"
    }
   ],
   "source": [
    "y = sp.symbols('y',cls=sp.Function)\n",
    "ysol = sp.dsolve(y(t).diff(t,t)+0.3*y(t).diff(t)+y(t),y(t))\n",
    "ysol"
   ]
  },
  {
   "cell_type": "code",
   "execution_count": 27,
   "metadata": {},
   "outputs": [
    {
     "data": {
      "image/png": "[encoded data removed]",
      "text/latex": [
       "$\\displaystyle \\left\\{ C_{1} : 0.151716521227252, \\  C_{2} : 1.0\\right\\}$"
      ],
      "text/plain": [
       "{C₁: 0.151716521227252, C₂: 1.0}"
      ]
     },
     "execution_count": 27,
     "metadata": {},
     "output_type": "execute_result"
    }
   ],
   "source": [
    "C = sp.solve([ysol.rhs.subs(t,0)-1.0,ysol.rhs.diff(t).subs(t,0)-0.0])\n",
    "C"
   ]
  },
  {
   "cell_type": "code",
   "execution_count": 28,
   "metadata": {},
   "outputs": [
    {
     "data": {
      "text/plain": [
       "[<matplotlib.lines.Line2D at 0x1d24e995c88>]"
      ]
     },
     "execution_count": 28,
     "metadata": {},
     "output_type": "execute_result"
    },
    {
     "data": {
      "image/png": "[encoded data removed]",
      "text/plain": [
       "<Figure size 432x288 with 1 Axes>"
      ]
     },
     "metadata": {
      "needs_background": "light"
     },
     "output_type": "display_data"
    }
   ],
   "source": [
    "ysol = ysol.subs(C)\n",
    "ysol = sp.lambdify(t,ysol.rhs,'numpy')\n",
    "t = np.linspace(0,25,200)\n",
    "plt.plot(t,ysol(t))"
   ]
  },
  {
   "cell_type": "markdown",
   "metadata": {},
   "source": [
    "---\n",
    "\n",
    "<font size=\"1\" color=\"grey\">\n",
    "    (c) 2020 Javier García Algarra. <a href='https://www.u-tad.com'>www.u-tad.com</a> <br>\n",
    "Licensed under a Creative Commons Reconocimiento 4.0 Internacional License\n",
    "</font> "
   ]
  }
 ],
 "metadata": {
  "kernelspec": {
   "display_name": "Python 3",
   "language": "python",
   "name": "python3"
  },
  "language_info": {
   "codemirror_mode": {
    "name": "ipython",
    "version": 3
   },
   "file_extension": ".py",
   "mimetype": "text/x-python",
   "name": "python",
   "nbconvert_exporter": "python",
   "pygments_lexer": "ipython3",
   "version": "3.7.4"
  }
 },
 "nbformat": 4,
 "nbformat_minor": 2
}
