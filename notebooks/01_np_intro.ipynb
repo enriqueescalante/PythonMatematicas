{
 "cells": [
  {
   "cell_type": "markdown",
   "metadata": {},
   "source": [
    "<font size = 1 color=\"gray\">Introducción a la computación numérica y simbólica con Python</font>  \n",
    "<img src=\"img/logo-vector-u-tad.jpg\" align=\"left\" >"
   ]
  },
  {
   "cell_type": "markdown",
   "metadata": {},
   "source": [
    "# 1. Introducción a NumPy, SciPy y Matplotlib"
   ]
  },
  {
   "cell_type": "markdown",
   "metadata": {},
   "source": [
    "En esta primera lección vamos a ver algunos ejemplos muy simples de uso de los paquetes de cálculo numérico NumPy y SciPy. Estos paquetes son el estándar de la computación numérica con Python, son wrappers de librerías muy probadas, algunas escritas en FORTRAN y otras en C. Matplotlib es el paquete más popular para producir gráficas de calidad en Python.\n",
    "\n",
    "Más información en https://numpy.org, https://www.scipy.org y https://matplotlib.org"
   ]
  },
  {
   "cell_type": "markdown",
   "metadata": {},
   "source": [
    "# Conjuntos"
   ]
  },
  {
   "cell_type": "markdown",
   "metadata": {},
   "source": [
    "Los conjuntos son parte del core de Python, que no se explicaron en el curso básico. Como su nombre indica, sirven para trabajar con operaciones básicas de conjuntos."
   ]
  },
  {
   "cell_type": "code",
   "execution_count": 2,
   "metadata": {
    "scrolled": true
   },
   "outputs": [
    {
     "name": "stdout",
     "output_type": "stream",
     "text": [
      "Los elementos del conjunto original son:  {0, 3, 4, 5}\n"
     ]
    }
   ],
   "source": [
    "# Un conjunto se define de forma parecida a una lista pero encerrando los elementos entre llaves\n",
    "\n",
    "set0 = {0,3,4,5}\n",
    "print(\"Los elementos del conjunto original son: \",set0)"
   ]
  },
  {
   "cell_type": "code",
   "execution_count": 3,
   "metadata": {},
   "outputs": [
    {
     "name": "stdout",
     "output_type": "stream",
     "text": [
      "Conjunto tras añadir el elemento 8:  {0, 3, 4, 5, 8}\n"
     ]
    }
   ],
   "source": [
    "# Para añadir elementos podemos usar el método add\n",
    "# Solo puede añadirse un elemento cada vez, no es posible\n",
    "# pasar una lista como parámetro de entrada\n",
    "\n",
    "set0.add(8)\n",
    "print(\"Conjunto tras añadir el elemento 8: \",set0)"
   ]
  },
  {
   "cell_type": "markdown",
   "metadata": {},
   "source": [
    "Por definición, un elemento no puede repetirse en un conjunto. "
   ]
  },
  {
   "cell_type": "code",
   "execution_count": 4,
   "metadata": {},
   "outputs": [
    {
     "name": "stdout",
     "output_type": "stream",
     "text": [
      "Conjunto tras añadir 0, 3 y 7: {0, 3, 4, 5, 7, 8}\n"
     ]
    }
   ],
   "source": [
    "# Si añadimos un subconjunto al original, com los elementos 0, 3 y 7, el resultado neto es\n",
    "# añadir el 7\n",
    "for j in [0,3,7]:                  # Podria hacerse con la operacion union en una linea\n",
    "    set0.add(j)\n",
    "print(\"Conjunto tras añadir 0, 3 y 7:\",set0)"
   ]
  },
  {
   "cell_type": "markdown",
   "metadata": {},
   "source": [
    "Añadir elemento a elemento a un conjunto no es una solución elegante. Para eso, se inventó la unión de conjuntos. Vamos a definir un segundo conjunto y realizar la operación de unión con set0"
   ]
  },
  {
   "cell_type": "code",
   "execution_count": 6,
   "metadata": {},
   "outputs": [
    {
     "name": "stdout",
     "output_type": "stream",
     "text": [
      "Conjunto set0: {0, 3, 4, 5, 7, 8}\n",
      "conjunto set1: {1, 2, 3}\n",
      "Conjunto resultante de la unión: {0, 1, 2, 3, 4, 5, 7, 8}\n"
     ]
    }
   ],
   "source": [
    "set1 = {1,3,2}          # El conjunto no tiene por qué estar ordenado\n",
    "\n",
    "setunion = set0.union(set1)\n",
    "print(\"Conjunto set0:\",set0)\n",
    "print(\"conjunto set1:\",set1)\n",
    "print(\"Conjunto resultante de la unión:\",setunion)"
   ]
  },
  {
   "cell_type": "markdown",
   "metadata": {},
   "source": [
    "Los conjuntos no tienen por qué ser únicamente de números enteros. Imaginemos que estamos programando un videojuego en el que el protagonista puede llevar en su alforja una espada, una pócima mágina y una sandalias voladoras que le permiten alcanzar determinados objetivos."
   ]
  },
  {
   "cell_type": "code",
   "execution_count": 7,
   "metadata": {},
   "outputs": [
    {
     "name": "stdout",
     "output_type": "stream",
     "text": [
      "En el momento actual del juego el muñequito lleva: {'pócima mágica', 'sandalias voladoras'}\n"
     ]
    }
   ],
   "source": [
    "gadgets = {\"pócima mágica\",\"sandalias voladoras\"}\n",
    "print(\"En el momento actual del juego el muñequito lleva:\",gadgets)"
   ]
  },
  {
   "cell_type": "markdown",
   "metadata": {},
   "source": [
    "Ahora el protagonista usa las sandalias voladoras para saltar por encima de un precipicio."
   ]
  },
  {
   "cell_type": "code",
   "execution_count": 8,
   "metadata": {},
   "outputs": [
    {
     "name": "stdout",
     "output_type": "stream",
     "text": [
      "Gadgets mágicos en la alforja: {'pócima mágica'}\n"
     ]
    }
   ],
   "source": [
    "gadgets.remove(\"sandalias voladoras\")\n",
    "print(\"Gadgets mágicos en la alforja:\",gadgets)"
   ]
  },
  {
   "cell_type": "markdown",
   "metadata": {},
   "source": [
    "En la siguiente pantalla, el protagonista se hace con otro frasco de pócima y la espada del destino, pero las normas del juego indican que no se puede llevar más de un objeto del mismo tipo."
   ]
  },
  {
   "cell_type": "code",
   "execution_count": 9,
   "metadata": {},
   "outputs": [
    {
     "name": "stdout",
     "output_type": "stream",
     "text": [
      "El protagonista ha consguido un frasco de pócima adicional y la espada del destino.\n",
      "En su alforja ahora lleva: {'pócima mágica', 'espada'}\n"
     ]
    }
   ],
   "source": [
    "print(\"El protagonista ha consguido un frasco de pócima adicional y la espada del destino.\")\n",
    "gadgets = gadgets.union({\"pócima mágica\",\"espada\"})\n",
    "print(\"En su alforja ahora lleva:\",gadgets)"
   ]
  },
  {
   "attachments": {
    "sets.png": {
     "image/png": "[encoded data removed]"
    }
   },
   "cell_type": "markdown",
   "metadata": {},
   "source": [
    "Además de la operación de unión, los conjuntos en Python aceptan las operaciones de intersección, diferencia y diferencia simétrica.\n",
    "\n",
    "![sets.png](attachment:sets.png)"
   ]
  },
  {
   "cell_type": "code",
   "execution_count": 10,
   "metadata": {},
   "outputs": [
    {
     "name": "stdout",
     "output_type": "stream",
     "text": [
      "A = {0, 1, 2, 3, 4, 5, 6, 7}\n",
      "B = {0, 2, 4, 6, 8}\n"
     ]
    }
   ],
   "source": [
    "A = set([i for i in range(8)])\n",
    "B = set([i for i in range(10) if i%2 == 0])\n",
    "print(\"A =\",A)\n",
    "print(\"B =\",B)"
   ]
  },
  {
   "cell_type": "code",
   "execution_count": 11,
   "metadata": {},
   "outputs": [
    {
     "name": "stdout",
     "output_type": "stream",
     "text": [
      "A unión B = {0, 1, 2, 3, 4, 5, 6, 7, 8}\n",
      "A intersección B = {0, 2, 4, 6}\n"
     ]
    }
   ],
   "source": [
    "print(\"A unión B =\",A.union(B))\n",
    "print(\"A intersección B =\",A.intersection(B))"
   ]
  },
  {
   "cell_type": "markdown",
   "metadata": {},
   "source": [
    "La diferencia A - B es el subconjunto de elementos de A que no pertenecen a la intersección de A y B y por tanto no es una operación conmutativa,"
   ]
  },
  {
   "cell_type": "code",
   "execution_count": 12,
   "metadata": {},
   "outputs": [
    {
     "name": "stdout",
     "output_type": "stream",
     "text": [
      "diferencia A - B = {1, 3, 5, 7}\n",
      "diferencia B - A =  {8}\n"
     ]
    }
   ],
   "source": [
    "print(\"diferencia A - B =\",A.difference(B))\n",
    "print(\"diferencia B - A = \",B.difference(A))"
   ]
  },
  {
   "cell_type": "markdown",
   "metadata": {},
   "source": [
    "Por último, la diferencia simétrica es el conjunto de todos los elementos de A y B que no pertenecen a su intersección."
   ]
  },
  {
   "cell_type": "code",
   "execution_count": 2,
   "metadata": {},
   "outputs": [
    {
     "name": "stdout",
     "output_type": "stream",
     "text": [
      "diferencia simétrica A, B = {1, 3, 5, 7, 8}\n"
     ]
    }
   ],
   "source": [
    "print(\"diferencia simétrica A, B =\",A.symmetric_difference(B))"
   ]
  },
  {
   "cell_type": "markdown",
   "metadata": {},
   "source": [
    "#### Aplicación\n",
    "\n",
    "Vamos a buscar los enteros entre 1 y 100 que son divisibles por dos primos usando conjuntos.\n",
    "\n",
    "Para ello, creamos los conjuntos de divisibles por cada primo y hacemos la intersección."
   ]
  },
  {
   "cell_type": "code",
   "execution_count": 13,
   "metadata": {},
   "outputs": [
    {
     "name": "stdout",
     "output_type": "stream",
     "text": [
      "Conjunto de los 100 primeros enteros divisibles por 3 = {3, 6, 9, 12, 15, 18, 21, 24, 27, 30, 33, 36, 39, 42, 45, 48, 51, 54, 57, 60, 63, 66, 69, 72, 75, 78, 81, 84, 87, 90, 93, 96, 99}\n",
      "Conjunto de los 100 primeros enteros divisibles por 5 = {5, 10, 15, 20, 25, 30, 35, 40, 45, 50, 55, 60, 65, 70, 75, 80, 85, 90, 95, 100}\n",
      "Conjunto de los 100 primeros enteros divisibles por 3 y por 5 = {75, 45, 15, 90, 60, 30}\n"
     ]
    }
   ],
   "source": [
    "# Esta funcion devuelve el conjunto de enteros divisibles por el primo que se indica\n",
    "def conjuntodivs(rango,primo):\n",
    "    return(set([i+1 for i in range(rango) if ((i+1) % primo == 0)]))\n",
    "\n",
    "# Primero vamos a probar con 3 y 5\n",
    "primoA = 3\n",
    "primoB = 5\n",
    "\n",
    "divisiblesA = conjuntodivs(100,primoA)\n",
    "print(\"Conjunto de los 100 primeros enteros divisibles por 3 =\",divisiblesA)\n",
    "divisiblesB = conjuntodivs(100,primoB)\n",
    "print(\"Conjunto de los 100 primeros enteros divisibles por 5 =\",divisiblesB)\n",
    "\n",
    "# Ahora obtenemos la intersección\n",
    "divAyB = divisiblesA.intersection(divisiblesB)\n",
    "print(\"Conjunto de los 100 primeros enteros divisibles por 3 y por 5 =\",divAyB)"
   ]
  },
  {
   "cell_type": "markdown",
   "metadata": {},
   "source": [
    "Obsérvese que el conjunto no está ordenado. Repitamos ahora la operación para saber qué enteros son divisibles por 3 y 7 y cuántos son."
   ]
  },
  {
   "cell_type": "code",
   "execution_count": 12,
   "metadata": {},
   "outputs": [
    {
     "name": "stdout",
     "output_type": "stream",
     "text": [
      "Hay 4 números entre 1 y 100 divisibles por 3 y por 7:  {42, 84, 21, 63}\n"
     ]
    }
   ],
   "source": [
    "primoB = 7\n",
    "divisiblesB = conjuntodivs(100,primoB)\n",
    "divAyB = divisiblesA.intersection(divisiblesB)\n",
    "# Observar que el conjunto no está ordenado\n",
    "print(\"Hay \"+str(len(divAyB))+\" números entre 1 y 100 divisibles por \"+\\\n",
    "       str(primoA)+\" y por \"+str(primoB)+\": \",divAyB)"
   ]
  },
  {
   "cell_type": "markdown",
   "metadata": {},
   "source": [
    "## Gráficas\n",
    "\n",
    "Ejemplos sencillos de uso de MATPLOTLIB. Veremos muchas más en las próximas secciones.\n"
   ]
  },
  {
   "cell_type": "code",
   "execution_count": 18,
   "metadata": {},
   "outputs": [
    {
     "data": {
      "image/png": "[encoded data removed]",
      "text/plain": [
       "<Figure size 576x360 with 1 Axes>"
      ]
     },
     "metadata": {
      "needs_background": "light"
     },
     "output_type": "display_data"
    }
   ],
   "source": [
    "import numpy as np\n",
    "import matplotlib.pyplot as plt\n",
    "\n",
    "# y = x^3 - x**5 entre -1 y 1\n",
    "\n",
    "x = np.linspace(-1,1,60)\n",
    "y = x**3 - x**5\n",
    "plt.figure(figsize=(8,5)) # tamaño de la gráfica en pulgadas\n",
    "plt.title('Gráfica de $y = x^3 - x^5$') # Título icluyendo una fórmula LaTeX\n",
    "plt.xlabel('$x$') # título del eje horizontal\n",
    "plt.ylabel('$y$') # título del eje  vertical\n",
    "plt.plot(x, y, marker='.', label=r\"$x^3-x^5$\", color = \"red\") # leyenda\n",
    "plt.legend() # muestra la leyenda\n",
    "plt.show()   # muestra la gráfica"
   ]
  },
  {
   "cell_type": "code",
   "execution_count": 15,
   "metadata": {},
   "outputs": [
    {
     "data": {
      "image/png": "[encoded data removed]",
      "text/plain": [
       "<Figure size 576x360 with 1 Axes>"
      ]
     },
     "metadata": {
      "needs_background": "light"
     },
     "output_type": "display_data"
    }
   ],
   "source": [
    "# Suma de señales como en el ejemplo que vimos en la parte de introducción\n",
    "\n",
    "def sumsignals(f1=7.0, f2=68.0):\n",
    "    max_time = 0.5\n",
    "    plt.figure(figsize=(8,5))\n",
    "    times = np.linspace(0, max_time, 1000)\n",
    "    signal = np.sin(2 * np.pi * f1 * times) + 0.15 * np.sin(2 * np.pi * f2 * times)\n",
    "    with plt.style.context(\"ggplot\"):\n",
    "        plt.plot(signal, color=\"blue\")\n",
    "        plt.xlabel(\"Tiempo ($t$)\")\n",
    "        plt.title(\"Suma de señales\")\n",
    "\n",
    "sumsignals()"
   ]
  },
  {
   "cell_type": "markdown",
   "metadata": {},
   "source": [
    "---\n",
    "\n",
    "<font size=\"1\" color=\"grey\">\n",
    "    (c) 2020 Javier García Algarra. <a href='https://www.u-tad.com'>www.u-tad.com</a> <br>\n",
    "Licensed under a Creative Commons Reconocimiento 4.0 Internacional License\n",
    "</font> "
   ]
  }
 ],
 "metadata": {
  "kernelspec": {
   "display_name": "Python 3",
   "language": "python",
   "name": "python3"
  },
  "language_info": {
   "codemirror_mode": {
    "name": "ipython",
    "version": 3
   },
   "file_extension": ".py",
   "mimetype": "text/x-python",
   "name": "python",
   "nbconvert_exporter": "python",
   "pygments_lexer": "ipython3",
   "version": "3.7.4"
  }
 },
 "nbformat": 4,
 "nbformat_minor": 2
}
