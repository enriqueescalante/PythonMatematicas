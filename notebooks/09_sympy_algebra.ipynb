{
 "cells": [
  {
   "cell_type": "markdown",
   "metadata": {},
   "source": [
    "<font size = 1 color=\"gray\">Introducción a la computación numérica y simbólica con Python</font>  \n",
    "\n",
    "<img src=\"img/logo-vector-u-tad.jpg\" align=\"left\" >"
   ]
  },
  {
   "cell_type": "markdown",
   "metadata": {},
   "source": [
    "# 9. Álgebra simbólica\n",
    "\n",
    "Sympy ofrece multitud de posibilidades para manejar símbolos, y esa es la base del álgebra."
   ]
  },
  {
   "cell_type": "markdown",
   "metadata": {},
   "source": [
    "## Expresiones algebraicas\n",
    "\n",
    "Con Sympy podemos factorizar, desarrollar y simplificar expresiones de la misma forma que cuando trabajamos con papel y lápiz."
   ]
  },
  {
   "cell_type": "code",
   "execution_count": 1,
   "metadata": {},
   "outputs": [
    {
     "name": "stdout",
     "output_type": "stream",
     "text": [
      "(x - 5)*(x - 1)*(x + 2)\n",
      "\n",
      " 3      2           \n",
      "x  - 4⋅x  - 7⋅x + 10\n"
     ]
    }
   ],
   "source": [
    "import numpy as np\n",
    "import scipy as sci\n",
    "import matplotlib.pyplot as plt\n",
    "import sympy as sp\n",
    "sp.init_printing()  \n",
    "\n",
    "expresion = sp.sympify('(x-1)*(x+2)*(x-5)')\n",
    "print(expresion)\n",
    "# Vamos a expandir el polinomio\n",
    "print()\n",
    "expresion = expresion.expand()\n",
    "sp.pprint(expresion)"
   ]
  },
  {
   "cell_type": "markdown",
   "metadata": {},
   "source": [
    "`collect` obtiene factor común de las potencias de una expresión."
   ]
  },
  {
   "cell_type": "code",
   "execution_count": 2,
   "metadata": {},
   "outputs": [
    {
     "name": "stdout",
     "output_type": "stream",
     "text": [
      "         3          3    \n",
      "8⋅(x - y)  + (x + z)  + 2\n",
      "=\n",
      "   3       2        2           2        2      3    3    \n",
      "9⋅x  - 24⋅x ⋅y + 3⋅x ⋅z + 24⋅x⋅y  + 3⋅x⋅z  - 8⋅y  + z  + 2\n",
      "=\n",
      "         3          3    \n",
      "8⋅(x - y)  + (x + z)  + 2\n"
     ]
    }
   ],
   "source": [
    "x,y,z = sp.symbols('x y z')\n",
    "polinomio = sp.sympify('8*(x-y)**3+(x+z)**3+2')\n",
    "sp.pprint(polinomio)\n",
    "print(\"=\")\n",
    "sp.pprint(polinomio.expand())\n",
    "print(\"=\")\n",
    "sp.pprint(sp.collect(polinomio,x))"
   ]
  },
  {
   "cell_type": "markdown",
   "metadata": {},
   "source": [
    "`cancel` simplifica las expresiones fraccionarias."
   ]
  },
  {
   "cell_type": "code",
   "execution_count": 3,
   "metadata": {},
   "outputs": [
    {
     "name": "stdout",
     "output_type": "stream",
     "text": [
      "9⋅x    \n",
      "─── - 2\n",
      " 4     \n",
      "───────\n",
      "  2    \n",
      " x  - 4\n",
      "=\n",
      " 9⋅x - 8 \n",
      "─────────\n",
      "   2     \n",
      "4⋅x  - 16\n"
     ]
    }
   ],
   "source": [
    "expresion = (2*x + x/4 - 2)/(x**2 - 4)\n",
    "sp.pprint(expresion)\n",
    "print(\"=\")\n",
    "sp.pprint(sp.cancel(expresion))"
   ]
  },
  {
   "cell_type": "markdown",
   "metadata": {},
   "source": [
    "La función `apart` descompone en fracciones parciales"
   ]
  },
  {
   "cell_type": "code",
   "execution_count": 4,
   "metadata": {},
   "outputs": [
    {
     "name": "stdout",
     "output_type": "stream",
     "text": [
      "  5⋅x + 3   \n",
      "────────────\n",
      " 2          \n",
      "x  + 2⋅x - 3\n",
      "=\n",
      "  3       2  \n",
      "───── + ─────\n",
      "x + 3   x - 1\n"
     ]
    }
   ],
   "source": [
    "expresion=(5*x+3)/(x**2+2*x-3)\n",
    "sp.pprint(expresion)\n",
    "print(\"=\")\n",
    "sp.pprint(expresion.apart())"
   ]
  },
  {
   "cell_type": "code",
   "execution_count": 5,
   "metadata": {},
   "outputs": [
    {
     "name": "stdout",
     "output_type": "stream",
     "text": [
      "La integral indefinida de\n"
     ]
    },
    {
     "data": {
      "image/png": "[encoded data removed]",
      "text/latex": [
       "$\\displaystyle \\frac{5 x + 3}{x^{2} + 2 x - 3}$"
      ],
      "text/plain": [
       "  5⋅x + 3   \n",
       "────────────\n",
       " 2          \n",
       "x  + 2⋅x - 3"
      ]
     },
     "execution_count": 5,
     "metadata": {},
     "output_type": "execute_result"
    }
   ],
   "source": [
    "# SymPy realiza la descomposición en fracciones parciales para integrar sin que tengamos que pedirlo de forma explícita\n",
    "\n",
    "integral = sp.symbols('integral')\n",
    "integral = sp.integrate(expresion, x)\n",
    "print (\"La integral indefinida de\")\n",
    "expresion"
   ]
  },
  {
   "cell_type": "code",
   "execution_count": 6,
   "metadata": {},
   "outputs": [
    {
     "name": "stdout",
     "output_type": "stream",
     "text": [
      "es\n"
     ]
    },
    {
     "data": {
      "image/png": "[encoded data removed]",
      "text/latex": [
       "$\\displaystyle 2 \\log{\\left(x - 1 \\right)} + 3 \\log{\\left(x + 3 \\right)}$"
      ],
      "text/plain": [
       "2⋅log(x - 1) + 3⋅log(x + 3)"
      ]
     },
     "execution_count": 6,
     "metadata": {},
     "output_type": "execute_result"
    }
   ],
   "source": [
    "print (\"es\")\n",
    "integral"
   ]
  },
  {
   "cell_type": "markdown",
   "metadata": {},
   "source": [
    "`trigsimp` y `expand_trig` son las funciones equivalentes a `factor`y `expand` cuando hay expresiones trigonométricas en el problema."
   ]
  },
  {
   "cell_type": "code",
   "execution_count": 7,
   "metadata": {},
   "outputs": [
    {
     "name": "stdout",
     "output_type": "stream",
     "text": [
      "cos(2⋅x)\n",
      "es igual a \n",
      "     2       \n",
      "2⋅cos (x) - 1\n",
      "\n",
      "sin(2⋅x)\n",
      "es igual a \n",
      "2⋅sin(x)⋅cos(x)\n",
      "\n",
      "tan(2⋅x)\n",
      "es igual a \n",
      "  2⋅tan(x) \n",
      "───────────\n",
      "       2   \n",
      "1 - tan (x)\n",
      "\n",
      "      2⋅tan(x)     \n",
      "───────────────────\n",
      "  sin(x)⋅tan(x)    \n",
      "- ───────────── + 1\n",
      "      cos(x)       \n",
      "es igual a \n",
      "tan(2⋅x)\n"
     ]
    }
   ],
   "source": [
    "expresiontrig = sp.cos(2*x)\n",
    "sp.pprint(expresiontrig)\n",
    "print(\"es igual a \")\n",
    "sp.pprint(sp.expand_trig(expresiontrig))\n",
    "print(\"\")\n",
    "expresiontrig = sp.sin(2*x)\n",
    "sp.pprint(expresiontrig)\n",
    "print(\"es igual a \")\n",
    "sp.pprint(sp.expand_trig(expresiontrig))\n",
    "print()\n",
    "expresiontrig = sp.tan(2*x)\n",
    "sp.pprint(expresiontrig)\n",
    "print(\"es igual a \")\n",
    "sp.pprint(sp.expand_trig(expresiontrig))\n",
    "\n",
    "print()\n",
    "expresiontrig = 2*sp.tan(x)/(1-sp.tan(x)*sp.sin(x)/sp.cos(x))\n",
    "sp.pprint(expresiontrig)\n",
    "print(\"es igual a \")\n",
    "sp.pprint(sp.trigsimp(expresiontrig))\n"
   ]
  },
  {
   "cell_type": "markdown",
   "metadata": {},
   "source": [
    "## Resolución de ecuaciones\n",
    "\n",
    "Sympy encuentra las raíces de una ecuación usando la función `solve`"
   ]
  },
  {
   "cell_type": "code",
   "execution_count": 8,
   "metadata": {},
   "outputs": [
    {
     "name": "stdout",
     "output_type": "stream",
     "text": [
      "raices de (5*x + 3)/(x**2 + 2*x - 3)\n",
      "[-3/5]\n",
      "\n",
      "raices de x**2 - 4*x - 1\n",
      "[2 - √5, 2 + √5]\n",
      "expresion/expresion2 (5*x + 3)/((x**2 - 4*x - 1)*(x**2 + 2*x - 3))\n",
      "Forma simplificada -(5*x + 3)/((x - 1)*(x + 3)*(-x**2 + 4*x + 1))\n"
     ]
    }
   ],
   "source": [
    "raices = sp.solve(expresion)\n",
    "print(\"raices de\",expresion)\n",
    "sp.pprint(raices)\n",
    "print()\n",
    "\n",
    "# Hagamos los mismo con otro polinomio del que desconocemos sus factores\n",
    "expresion2 = sp.sympify('x**2-4*x-1')\n",
    "raices2 = sp.solve(expresion2)\n",
    "print(\"raices de\",expresion2)\n",
    "sp.pprint(raices2)\n",
    "\n",
    "expresion3 = expresion/expresion2\n",
    "print(\"expresion/expresion2\",expresion/expresion2)\n",
    "# Forma simplificada\n",
    "print(\"Forma simplificada\",sp.simplify(sp.factor(expresion)/sp.factor(expresion2)))"
   ]
  },
  {
   "cell_type": "markdown",
   "metadata": {},
   "source": [
    "La función `solve` de SymPy tiene la ventaja de que no necesita una pista para localizar las raíces, y encuentra todas de una vez, pero es más lenta que los métodos numéricos y no siempre funciona."
   ]
  },
  {
   "cell_type": "code",
   "execution_count": 9,
   "metadata": {},
   "outputs": [
    {
     "name": "stdout",
     "output_type": "stream",
     "text": [
      " x             \n",
      " ─             \n",
      " 3             \n",
      "ℯ              \n",
      "── + 4⋅sin(4⋅x)\n",
      "3              \n",
      "\n",
      "Raíces por el método numérico de fuerza bruta [0.28851361104396056, 1.5066821910073496, 1.5707963267948966]\n"
     ]
    }
   ],
   "source": [
    "# Utilizamos el mismo ejemplo que en la lección de resolución numérica\n",
    "expresion = sp.exp(x/3)/3+4*sp.sin(4*x)\n",
    "sp.pprint(expresion)\n",
    "print()\n",
    "\n",
    "# Resolución numérica\n",
    "def fuerzabruta(serie,x):\n",
    "    raices = list()              # lista vacía\n",
    "    lserie = len(serie)\n",
    "    for i in range(lserie-1):\n",
    "        if ((serie[i+1]*serie[i])<0):     # Producto negativo si hay cambio de signo\n",
    "            raices.append((x[i+1]+x[i])/2)\n",
    "    return raices\n",
    "\n",
    "def frara(xn):\n",
    "    return(np.exp(xn/3)-np.cos(4*xn)-0.7)\n",
    "\n",
    "xn = np.linspace(0,np.pi,50)\n",
    "yn = frara(xn)\n",
    "raiceseq = fuerzabruta(yn,xn)\n",
    "print(\"Raíces por el método numérico de fuerza bruta\", raiceseq)\n"
   ]
  },
  {
   "cell_type": "code",
   "execution_count": 10,
   "metadata": {},
   "outputs": [
    {
     "name": "stdout",
     "output_type": "stream",
     "text": [
      "Sympy: imposible resolver la ecuación exp(x/3)/3 + 4*sin(4*x) =0\n"
     ]
    }
   ],
   "source": [
    "# La resolución con SymPy no siempre es posible, hay ocasiones en que solve es incapaz de encontrar las raíces\n",
    "# y produce una excepción. Como ejemplo, la misma ecuación que se ha resuelto numéricamente.\n",
    "\n",
    "try:\n",
    "    raices = sp.solve(expresion)\n",
    "    print(\"Raíces con SymPy solve\",raices)      # Mensaje de error porque es incapaz de encontrar la solución\n",
    "except:\n",
    "    print(\"Sympy: imposible resolver la ecuación \"+str(expresion)+\" =0\")"
   ]
  },
  {
   "cell_type": "code",
   "execution_count": 13,
   "metadata": {},
   "outputs": [
    {
     "ename": "NotImplementedError",
     "evalue": "multiple generators [x, cos(x)]\nNo algorithms are implemented to solve equation -x + cos(x)",
     "output_type": "error",
     "traceback": [
      "\u001b[1;31m---------------------------------------------------------------------------\u001b[0m",
      "\u001b[1;31mNotImplementedError\u001b[0m                       Traceback (most recent call last)",
      "\u001b[1;32m<ipython-input-13-99164dd94407>\u001b[0m in \u001b[0;36m<module>\u001b[1;34m\u001b[0m\n\u001b[0;32m      3\u001b[0m \u001b[1;31m# Véase el mensaje de error\u001b[0m\u001b[1;33m\u001b[0m\u001b[1;33m\u001b[0m\u001b[1;33m\u001b[0m\u001b[0m\n\u001b[0;32m      4\u001b[0m \u001b[1;33m\u001b[0m\u001b[0m\n\u001b[1;32m----> 5\u001b[1;33m \u001b[0mraices\u001b[0m \u001b[1;33m=\u001b[0m \u001b[0msp\u001b[0m\u001b[1;33m.\u001b[0m\u001b[0msolve\u001b[0m\u001b[1;33m(\u001b[0m\u001b[0msp\u001b[0m\u001b[1;33m.\u001b[0m\u001b[0mcos\u001b[0m\u001b[1;33m(\u001b[0m\u001b[0mx\u001b[0m\u001b[1;33m)\u001b[0m\u001b[1;33m-\u001b[0m\u001b[0mx\u001b[0m\u001b[1;33m)\u001b[0m\u001b[1;33m\u001b[0m\u001b[1;33m\u001b[0m\u001b[0m\n\u001b[0m",
      "\u001b[1;32mC:\\Anaconda3\\lib\\site-packages\\sympy\\solvers\\solvers.py\u001b[0m in \u001b[0;36msolve\u001b[1;34m(f, *symbols, **flags)\u001b[0m\n\u001b[0;32m   1169\u001b[0m     \u001b[1;31m###########################################################################\u001b[0m\u001b[1;33m\u001b[0m\u001b[1;33m\u001b[0m\u001b[1;33m\u001b[0m\u001b[0m\n\u001b[0;32m   1170\u001b[0m     \u001b[1;32mif\u001b[0m \u001b[0mbare_f\u001b[0m\u001b[1;33m:\u001b[0m\u001b[1;33m\u001b[0m\u001b[1;33m\u001b[0m\u001b[0m\n\u001b[1;32m-> 1171\u001b[1;33m         \u001b[0msolution\u001b[0m \u001b[1;33m=\u001b[0m \u001b[0m_solve\u001b[0m\u001b[1;33m(\u001b[0m\u001b[0mf\u001b[0m\u001b[1;33m[\u001b[0m\u001b[1;36m0\u001b[0m\u001b[1;33m]\u001b[0m\u001b[1;33m,\u001b[0m \u001b[1;33m*\u001b[0m\u001b[0msymbols\u001b[0m\u001b[1;33m,\u001b[0m \u001b[1;33m**\u001b[0m\u001b[0mflags\u001b[0m\u001b[1;33m)\u001b[0m\u001b[1;33m\u001b[0m\u001b[1;33m\u001b[0m\u001b[0m\n\u001b[0m\u001b[0;32m   1172\u001b[0m     \u001b[1;32melse\u001b[0m\u001b[1;33m:\u001b[0m\u001b[1;33m\u001b[0m\u001b[1;33m\u001b[0m\u001b[0m\n\u001b[0;32m   1173\u001b[0m         \u001b[0msolution\u001b[0m \u001b[1;33m=\u001b[0m \u001b[0m_solve_system\u001b[0m\u001b[1;33m(\u001b[0m\u001b[0mf\u001b[0m\u001b[1;33m,\u001b[0m \u001b[0msymbols\u001b[0m\u001b[1;33m,\u001b[0m \u001b[1;33m**\u001b[0m\u001b[0mflags\u001b[0m\u001b[1;33m)\u001b[0m\u001b[1;33m\u001b[0m\u001b[1;33m\u001b[0m\u001b[0m\n",
      "\u001b[1;32mC:\\Anaconda3\\lib\\site-packages\\sympy\\solvers\\solvers.py\u001b[0m in \u001b[0;36m_solve\u001b[1;34m(f, *symbols, **flags)\u001b[0m\n\u001b[0;32m   1740\u001b[0m \u001b[1;33m\u001b[0m\u001b[0m\n\u001b[0;32m   1741\u001b[0m     \u001b[1;32mif\u001b[0m \u001b[0mresult\u001b[0m \u001b[1;32mis\u001b[0m \u001b[1;32mFalse\u001b[0m\u001b[1;33m:\u001b[0m\u001b[1;33m\u001b[0m\u001b[1;33m\u001b[0m\u001b[0m\n\u001b[1;32m-> 1742\u001b[1;33m         \u001b[1;32mraise\u001b[0m \u001b[0mNotImplementedError\u001b[0m\u001b[1;33m(\u001b[0m\u001b[1;34m'\\n'\u001b[0m\u001b[1;33m.\u001b[0m\u001b[0mjoin\u001b[0m\u001b[1;33m(\u001b[0m\u001b[1;33m[\u001b[0m\u001b[0mmsg\u001b[0m\u001b[1;33m,\u001b[0m \u001b[0mnot_impl_msg\u001b[0m \u001b[1;33m%\u001b[0m \u001b[0mf\u001b[0m\u001b[1;33m]\u001b[0m\u001b[1;33m)\u001b[0m\u001b[1;33m)\u001b[0m\u001b[1;33m\u001b[0m\u001b[1;33m\u001b[0m\u001b[0m\n\u001b[0m\u001b[0;32m   1743\u001b[0m \u001b[1;33m\u001b[0m\u001b[0m\n\u001b[0;32m   1744\u001b[0m     \u001b[1;32mif\u001b[0m \u001b[0mflags\u001b[0m\u001b[1;33m.\u001b[0m\u001b[0mget\u001b[0m\u001b[1;33m(\u001b[0m\u001b[1;34m'simplify'\u001b[0m\u001b[1;33m,\u001b[0m \u001b[1;32mTrue\u001b[0m\u001b[1;33m)\u001b[0m\u001b[1;33m:\u001b[0m\u001b[1;33m\u001b[0m\u001b[1;33m\u001b[0m\u001b[0m\n",
      "\u001b[1;31mNotImplementedError\u001b[0m: multiple generators [x, cos(x)]\nNo algorithms are implemented to solve equation -x + cos(x)"
     ]
    }
   ],
   "source": [
    "# Tampoco puede resolver lo imposible algebraicamente, como una ecuación trascendente.\n",
    "#\n",
    "# Véase el mensaje de error\n",
    "\n",
    "raices = sp.solve(sp.cos(x)-x)"
   ]
  },
  {
   "cell_type": "markdown",
   "metadata": {},
   "source": [
    "## Matrices\n",
    "\n",
    "SymPy tiene su propia clase de matrices, que no debe ser confundida con los arrays de NumPy."
   ]
  },
  {
   "cell_type": "code",
   "execution_count": 14,
   "metadata": {},
   "outputs": [
    {
     "data": {
      "image/png": "[encoded data removed]",
      "text/latex": [
       "$\\displaystyle \\left[\\begin{matrix}1 & 0 & 6\\\\-8 & 0 & 0\\end{matrix}\\right]$"
      ],
      "text/plain": [
       "⎡1   0  6⎤\n",
       "⎢        ⎥\n",
       "⎣-8  0  0⎦"
      ]
     },
     "execution_count": 14,
     "metadata": {},
     "output_type": "execute_result"
    }
   ],
   "source": [
    "# Definición explícita con valores\n",
    "from sympy.matrices import Matrix, eye, zeros, ones, diag, GramSchmidt\n",
    "M = Matrix([[1,0,6], [-8,0,0]]);\n",
    "M"
   ]
  },
  {
   "cell_type": "code",
   "execution_count": 15,
   "metadata": {},
   "outputs": [
    {
     "data": {
      "image/png": "[encoded data removed]",
      "text/latex": [
       "$\\displaystyle \\left[\\begin{matrix}0 & 1 & 2\\\\10 & 11 & 12\\end{matrix}\\right]$"
      ],
      "text/plain": [
       "⎡0   1   2 ⎤\n",
       "⎢          ⎥\n",
       "⎣10  11  12⎦"
      ]
     },
     "execution_count": 15,
     "metadata": {},
     "output_type": "execute_result"
    }
   ],
   "source": [
    "# Definición con una función\n",
    "P = Matrix(2,3,lambda x,y:x*10+y)\n",
    "P"
   ]
  },
  {
   "cell_type": "code",
   "execution_count": 16,
   "metadata": {},
   "outputs": [
    {
     "data": {
      "image/png": "[encoded data removed]",
      "text/latex": [
       "$\\displaystyle \\left[\\begin{matrix}a_{11} & a_{12} & a_{13}\\\\a_{21} & a_{22} & a_{23}\\\\a_{31} & a_{32} & a_{33}\\end{matrix}\\right]$"
      ],
      "text/plain": [
       "⎡a₁₁  a₁₂  a₁₃⎤\n",
       "⎢             ⎥\n",
       "⎢a₂₁  a₂₂  a₂₃⎥\n",
       "⎢             ⎥\n",
       "⎣a₃₁  a₃₂  a₃₃⎦"
      ]
     },
     "execution_count": 16,
     "metadata": {},
     "output_type": "execute_result"
    }
   ],
   "source": [
    "# Definición con contenido simbólico con una función\n",
    "A = Matrix(3,3,lambda x,y:sp.symbols('a'+str((x+1)*10+y+1)))\n",
    "A\n"
   ]
  },
  {
   "cell_type": "code",
   "execution_count": 17,
   "metadata": {},
   "outputs": [
    {
     "data": {
      "image/png": "[encoded data removed]",
      "text/latex": [
       "$\\displaystyle \\left[\\begin{matrix}a_{11} + b_{11} & a_{12} + b_{12} & a_{13} + b_{13}\\\\a_{21} + b_{21} & a_{22} + b_{22} & a_{23} + b_{23}\\\\a_{31} + b_{31} & a_{32} + b_{32} & a_{33} + b_{33}\\end{matrix}\\right]$"
      ],
      "text/plain": [
       "⎡a₁₁ + b₁₁  a₁₂ + b₁₂  a₁₃ + b₁₃⎤\n",
       "⎢                               ⎥\n",
       "⎢a₂₁ + b₂₁  a₂₂ + b₂₂  a₂₃ + b₂₃⎥\n",
       "⎢                               ⎥\n",
       "⎣a₃₁ + b₃₁  a₃₂ + b₃₂  a₃₃ + b₃₃⎦"
      ]
     },
     "execution_count": 17,
     "metadata": {},
     "output_type": "execute_result"
    }
   ],
   "source": [
    "B = Matrix(3,3,lambda x,y:sp.symbols('b'+str((x+1)*10+y+1)))\n",
    "A+B"
   ]
  },
  {
   "cell_type": "markdown",
   "metadata": {},
   "source": [
    "`eye`crea una matriz con valor 1 en la diagonal (aunque no sea cuadrada) y el resto a 0 "
   ]
  },
  {
   "cell_type": "code",
   "execution_count": 18,
   "metadata": {},
   "outputs": [
    {
     "data": {
      "image/png": "[encoded data removed]",
      "text/latex": [
       "$\\displaystyle \\left[\\begin{matrix}1 & 0 & 0\\\\0 & 1 & 0\\\\0 & 0 & 1\\end{matrix}\\right]$"
      ],
      "text/plain": [
       "⎡1  0  0⎤\n",
       "⎢       ⎥\n",
       "⎢0  1  0⎥\n",
       "⎢       ⎥\n",
       "⎣0  0  1⎦"
      ]
     },
     "execution_count": 18,
     "metadata": {},
     "output_type": "execute_result"
    }
   ],
   "source": [
    "E3 = eye(3,3)\n",
    "E3"
   ]
  },
  {
   "cell_type": "code",
   "execution_count": 19,
   "metadata": {},
   "outputs": [
    {
     "data": {
      "image/png": "[encoded data removed]",
      "text/latex": [
       "$\\displaystyle \\left[\\begin{matrix}a_{11} & a_{12} & a_{13}\\\\a_{21} & a_{22} & a_{23}\\\\a_{31} & a_{32} & a_{33}\\end{matrix}\\right]$"
      ],
      "text/plain": [
       "⎡a₁₁  a₁₂  a₁₃⎤\n",
       "⎢             ⎥\n",
       "⎢a₂₁  a₂₂  a₂₃⎥\n",
       "⎢             ⎥\n",
       "⎣a₃₁  a₃₂  a₃₃⎦"
      ]
     },
     "execution_count": 19,
     "metadata": {},
     "output_type": "execute_result"
    }
   ],
   "source": [
    "A*E3                         # Al multiplicar por la matriz identidad se obtiene la matriz original"
   ]
  },
  {
   "cell_type": "markdown",
   "metadata": {},
   "source": [
    "Los objetos de la clase matriz pueden manipularse mediante sus propios métodos, por ejemplo, `.inv` para inversión"
   ]
  },
  {
   "cell_type": "code",
   "execution_count": 20,
   "metadata": {},
   "outputs": [
    {
     "data": {
      "image/png": "[encoded data removed]",
      "text/latex": [
       "$\\displaystyle \\left[\\begin{matrix}11 & 12\\\\21 & 22\\end{matrix}\\right]$"
      ],
      "text/plain": [
       "⎡11  12⎤\n",
       "⎢      ⎥\n",
       "⎣21  22⎦"
      ]
     },
     "execution_count": 20,
     "metadata": {},
     "output_type": "execute_result"
    }
   ],
   "source": [
    "V = Matrix(2,2,lambda x,y:(x+1)*10+y+1)\n",
    "V"
   ]
  },
  {
   "cell_type": "code",
   "execution_count": 21,
   "metadata": {},
   "outputs": [
    {
     "data": {
      "image/png": "[encoded data removed]",
      "text/latex": [
       "$\\displaystyle \\left[\\begin{matrix}- \\frac{11}{5} & \\frac{6}{5}\\\\\\frac{21}{10} & - \\frac{11}{10}\\end{matrix}\\right]$"
      ],
      "text/plain": [
       "⎡-11/5  6/5 ⎤\n",
       "⎢           ⎥\n",
       "⎢ 21    -11 ⎥\n",
       "⎢ ──    ────⎥\n",
       "⎣ 10     10 ⎦"
      ]
     },
     "execution_count": 21,
     "metadata": {},
     "output_type": "execute_result"
    }
   ],
   "source": [
    "V.inv()"
   ]
  },
  {
   "cell_type": "code",
   "execution_count": 22,
   "metadata": {},
   "outputs": [
    {
     "data": {
      "image/png": "[encoded data removed]",
      "text/latex": [
       "$\\displaystyle \\left[\\begin{matrix}1 & 0\\\\0 & 1\\end{matrix}\\right]$"
      ],
      "text/plain": [
       "⎡1  0⎤\n",
       "⎢    ⎥\n",
       "⎣0  1⎦"
      ]
     },
     "execution_count": 22,
     "metadata": {},
     "output_type": "execute_result"
    }
   ],
   "source": [
    "V*(V.inv())"
   ]
  },
  {
   "cell_type": "markdown",
   "metadata": {},
   "source": [
    "Con `det`se calcula el determinante"
   ]
  },
  {
   "cell_type": "code",
   "execution_count": 23,
   "metadata": {},
   "outputs": [
    {
     "data": {
      "image/png": "[encoded data removed]",
      "text/latex": [
       "$\\displaystyle -10$"
      ],
      "text/plain": [
       "-10"
      ]
     },
     "execution_count": 23,
     "metadata": {},
     "output_type": "execute_result"
    }
   ],
   "source": [
    "V.det()                         # Cálculo con valores numéricos"
   ]
  },
  {
   "cell_type": "code",
   "execution_count": 24,
   "metadata": {},
   "outputs": [
    {
     "data": {
      "image/png": "[encoded data removed]",
      "text/latex": [
       "$\\displaystyle a_{11} a_{22} a_{33} - a_{11} a_{23} a_{32} - a_{12} a_{21} a_{33} + a_{12} a_{23} a_{31} + a_{13} a_{21} a_{32} - a_{13} a_{22} a_{31}$"
      ],
      "text/plain": [
       "a₁₁⋅a₂₂⋅a₃₃ - a₁₁⋅a₂₃⋅a₃₂ - a₁₂⋅a₂₁⋅a₃₃ + a₁₂⋅a₂₃⋅a₃₁ + a₁₃⋅a₂₁⋅a₃₂ - a₁₃⋅a₂₂⋅\n",
       "a₃₁"
      ]
     },
     "execution_count": 24,
     "metadata": {},
     "output_type": "execute_result"
    }
   ],
   "source": [
    "A.det()                         # Cálculo con símbolos"
   ]
  },
  {
   "cell_type": "markdown",
   "metadata": {},
   "source": [
    "Con estas herramientas ya podemos resolver sistemas de ecuaciones lienales. Lo aplicamos al mismo ejemplo que usamos con NumPy."
   ]
  },
  {
   "cell_type": "code",
   "execution_count": 25,
   "metadata": {
    "scrolled": true
   },
   "outputs": [
    {
     "data": {
      "image/png": "[encoded data removed]",
      "text/latex": [
       "$\\displaystyle \\left( \\left[\\begin{matrix}-3 & 1\\\\4 & 2\\end{matrix}\\right], \\  \\left[\\begin{matrix}-3\\\\5\\end{matrix}\\right]\\right)$"
      ],
      "text/plain": [
       "⎛⎡-3  1⎤  ⎡-3⎤⎞\n",
       "⎜⎢     ⎥, ⎢  ⎥⎟\n",
       "⎝⎣4   2⎦  ⎣5 ⎦⎠"
      ]
     },
     "execution_count": 25,
     "metadata": {},
     "output_type": "execute_result"
    }
   ],
   "source": [
    "#  Encontrar el punto de corte de las rectas\n",
    "# -3x + y = -3\n",
    "#  4x + 2y = 5\n",
    "\n",
    "AL = Matrix([[-3,1],[4,2]])\n",
    "bL = Matrix([[-3,5]]).T\n",
    "\n",
    "AL, bL"
   ]
  },
  {
   "cell_type": "code",
   "execution_count": 26,
   "metadata": {},
   "outputs": [
    {
     "name": "stdout",
     "output_type": "stream",
     "text": [
      "Las rectas se cortan en el punto x= 11/10 y= 3/10\n"
     ]
    }
   ],
   "source": [
    "r1 =  Matrix([[-3,1],[5,2]]).det()/AL.det()\n",
    "r2 =  Matrix([[-3,-3],[4,5]]).det()/AL.det()\n",
    "\n",
    "print(\"Las rectas se cortan en el punto x=\",r1,\"y=\", r2)"
   ]
  },
  {
   "cell_type": "markdown",
   "metadata": {},
   "source": [
    "Con el método `LUsolve`la ecuación se resuelve en un único paso."
   ]
  },
  {
   "cell_type": "code",
   "execution_count": 27,
   "metadata": {},
   "outputs": [
    {
     "data": {
      "image/png": "[encoded data removed]",
      "text/latex": [
       "$\\displaystyle \\left[\\begin{matrix}\\frac{11}{10}\\\\\\frac{3}{10}\\end{matrix}\\right]$"
      ],
      "text/plain": [
       "⎡ 11 ⎤\n",
       "⎢ ── ⎥\n",
       "⎢ 10 ⎥\n",
       "⎢    ⎥\n",
       "⎣3/10⎦"
      ]
     },
     "execution_count": 27,
     "metadata": {},
     "output_type": "execute_result"
    }
   ],
   "source": [
    "rs = AL.LUsolve(bL)\n",
    "rs"
   ]
  },
  {
   "cell_type": "markdown",
   "metadata": {},
   "source": [
    "Autovalores y autovectores"
   ]
  },
  {
   "cell_type": "code",
   "execution_count": 28,
   "metadata": {},
   "outputs": [
    {
     "data": {
      "image/png": "[encoded data removed]",
      "text/latex": [
       "$\\displaystyle \\left\\{ \\frac{3}{2} - \\frac{\\sqrt{17}}{2} : 1, \\  \\frac{3}{2} + \\frac{\\sqrt{17}}{2} : 1\\right\\}$"
      ],
      "text/plain": [
       "⎧3   √17     3   √17   ⎫\n",
       "⎨─ - ───: 1, ─ + ───: 1⎬\n",
       "⎩2    2      2    2    ⎭"
      ]
     },
     "execution_count": 28,
     "metadata": {},
     "output_type": "execute_result"
    }
   ],
   "source": [
    "Matrix([[1,2],[2,2]]).eigenvals()"
   ]
  },
  {
   "cell_type": "code",
   "execution_count": 29,
   "metadata": {},
   "outputs": [
    {
     "data": {
      "image/png": "[encoded data removed]",
      "text/latex": [
       "$\\displaystyle \\left[\\begin{matrix}b_{11} & b_{12}\\\\b_{21} & b_{22}\\end{matrix}\\right]$"
      ],
      "text/plain": [
       "⎡b₁₁  b₁₂⎤\n",
       "⎢        ⎥\n",
       "⎣b₂₁  b₂₂⎦"
      ]
     },
     "execution_count": 29,
     "metadata": {},
     "output_type": "execute_result"
    }
   ],
   "source": [
    "MC = Matrix(2,2,lambda x,y:sp.symbols('b'+str((x+1)*10+y+1)))\n",
    "MC"
   ]
  },
  {
   "cell_type": "code",
   "execution_count": 30,
   "metadata": {},
   "outputs": [
    {
     "data": {
      "image/png": "[encoded data removed]",
      "text/latex": [
       "$\\displaystyle \\left\\{ \\frac{b_{11}}{2} + \\frac{b_{22}}{2} - \\frac{\\sqrt{b_{11}^{2} - 2 b_{11} b_{22} + 4 b_{12} b_{21} + b_{22}^{2}}}{2} : 1, \\  \\frac{b_{11}}{2} + \\frac{b_{22}}{2} + \\frac{\\sqrt{b_{11}^{2} - 2 b_{11} b_{22} + 4 b_{12} b_{21} + b_{22}^{2}}}{2} : 1\\right\\}$"
      ],
      "text/plain": [
       "⎧               _____________________________________                    _____\n",
       "⎪              ╱    2                              2                    ╱    2\n",
       "⎨b₁₁   b₂₂   ╲╱  b₁₁  - 2⋅b₁₁⋅b₂₂ + 4⋅b₁₂⋅b₂₁ + b₂₂       b₁₁   b₂₂   ╲╱  b₁₁ \n",
       "⎪─── + ─── - ────────────────────────────────────────: 1, ─── + ─── + ────────\n",
       "⎩ 2     2                       2                          2     2            \n",
       "\n",
       "________________________________   ⎫\n",
       "                              2    ⎪\n",
       " - 2⋅b₁₁⋅b₂₂ + 4⋅b₁₂⋅b₂₁ + b₂₂     ⎬\n",
       "────────────────────────────────: 1⎪\n",
       "           2                       ⎭"
      ]
     },
     "execution_count": 30,
     "metadata": {},
     "output_type": "execute_result"
    }
   ],
   "source": [
    "MC.eigenvals()"
   ]
  },
  {
   "cell_type": "markdown",
   "metadata": {},
   "source": [
    "## Trabajando con vectores\n",
    "\n",
    "En esta última sección se introduce el manejo de vectores con SymPy, tanto para manipulaciones algebraicas como para cálculo. \n",
    "\n",
    "Empezamos importando el paquete de funciones vectoriales."
   ]
  },
  {
   "cell_type": "code",
   "execution_count": 31,
   "metadata": {},
   "outputs": [
    {
     "data": {
      "image/png": "[encoded data removed]",
      "text/latex": [
       "$\\displaystyle \\mathbf{\\hat{n}_x}$"
      ],
      "text/plain": [
       "n_x"
      ]
     },
     "execution_count": 31,
     "metadata": {},
     "output_type": "execute_result"
    }
   ],
   "source": [
    "from sympy.physics.vector import *\n",
    "\n",
    "# Definición de una base ortonormal de dos dimensiones.\n",
    "\n",
    "N = ReferenceFrame('N')               # Creación del marco de referencia, por defecto tridimensional\n",
    "i = N.x                               # Definición de los vectores unitarios, por defecto ortonormales\n",
    "j = N.y\n",
    "k = N.z\n",
    "i"
   ]
  },
  {
   "cell_type": "code",
   "execution_count": 32,
   "metadata": {},
   "outputs": [
    {
     "data": {
      "image/png": "[encoded data removed]",
      "text/latex": [
       "$\\displaystyle 5$"
      ],
      "text/plain": [
       "5"
      ]
     },
     "execution_count": 32,
     "metadata": {},
     "output_type": "execute_result"
    }
   ],
   "source": [
    "v1,v2,v3 = sp.symbols(\"v1 v2 v3\")\n",
    "v1 = -3*i+2*j\n",
    "v2 = i+4*j+k\n",
    "# Producto escalar\n",
    "v1.dot(v2)"
   ]
  },
  {
   "cell_type": "code",
   "execution_count": 33,
   "metadata": {},
   "outputs": [
    {
     "data": {
      "image/png": "[encoded data removed]",
      "text/latex": [
       "$\\displaystyle - 2\\mathbf{\\hat{n}_x} + 6\\mathbf{\\hat{n}_y} + \\mathbf{\\hat{n}_z}$"
      ],
      "text/plain": [
       "-2 n_x + 6 n_y + n_z"
      ]
     },
     "execution_count": 33,
     "metadata": {},
     "output_type": "execute_result"
    }
   ],
   "source": [
    "# Aritmética vectorial\n",
    "v3 = v1 + v2\n",
    "v3"
   ]
  },
  {
   "cell_type": "code",
   "execution_count": 34,
   "metadata": {},
   "outputs": [
    {
     "data": {
      "image/png": "[encoded data removed]",
      "text/latex": [
       "$\\displaystyle 2\\mathbf{\\hat{n}_x} + 3\\mathbf{\\hat{n}_y} - 14\\mathbf{\\hat{n}_z}$"
      ],
      "text/plain": [
       "2 n_x + 3 n_y + -14 n_z"
      ]
     },
     "execution_count": 34,
     "metadata": {},
     "output_type": "execute_result"
    }
   ],
   "source": [
    "# Producto vectorial\n",
    "v1.cross(v2)"
   ]
  },
  {
   "cell_type": "markdown",
   "metadata": {},
   "source": [
    "El momento de una fuerza respecto al punto $O$ se define como el producto vectorial de la fuerza por el vector desde el origen al punto de aplicación. \n",
    "\n",
    "$\\mathbf M_\\text{O}=\n",
    "\\overrightarrow{\\text{OP}} \\times \\mathbf{F}=\n",
    "\\mathbf{r} \\times \\mathbf{F} $"
   ]
  },
  {
   "cell_type": "code",
   "execution_count": 35,
   "metadata": {},
   "outputs": [
    {
     "data": {
      "image/png": "[encoded data removed]",
      "text/latex": [
       "$\\displaystyle 48\\mathbf{\\hat{n}_z}$"
      ],
      "text/plain": [
       "48 n_z"
      ]
     },
     "execution_count": 35,
     "metadata": {},
     "output_type": "execute_result"
    }
   ],
   "source": [
    "# Imaginemos una esfera unida por una varilla de masa despreciable a un eje de rotación que tomamos como origen de coordenadas\n",
    "# Momento de una fuerza de 8N en sentido perpendicular al eje X aplicada en O = 6,0\n",
    "# se expresa en N x m\n",
    "\n",
    "OP, F, M = sp.symbols(\"OP F M\")\n",
    "OP = 6*i\n",
    "F = 8*j\n",
    "M = OP.cross(F)\n",
    "M"
   ]
  },
  {
   "cell_type": "code",
   "execution_count": 36,
   "metadata": {},
   "outputs": [
    {
     "data": {
      "image/png": "[encoded data removed]",
      "text/latex": [
       "$\\displaystyle 12 \\sqrt{2}\\mathbf{\\hat{n}_z}$"
      ],
      "text/plain": [
       "12⋅√2 n_z"
      ]
     },
     "execution_count": 36,
     "metadata": {},
     "output_type": "execute_result"
    }
   ],
   "source": [
    "# Momento de la misma fuera pero aplicada con un ángulo de 45 grados respecto del eje X\n",
    "F = sp.sqrt(8)*i+sp.sqrt(8)*j\n",
    "M = OP.cross(F)\n",
    "M"
   ]
  },
  {
   "cell_type": "code",
   "execution_count": 37,
   "metadata": {},
   "outputs": [
    {
     "data": {
      "image/png": "[encoded data removed]",
      "text/latex": [
       "$\\displaystyle 12 \\sqrt{2}$"
      ],
      "text/plain": [
       "12⋅√2"
      ]
     },
     "execution_count": 37,
     "metadata": {},
     "output_type": "execute_result"
    }
   ],
   "source": [
    "# La magnitud de este par es menor\n",
    "M.magnitude()"
   ]
  },
  {
   "cell_type": "code",
   "execution_count": 38,
   "metadata": {},
   "outputs": [
    {
     "data": {
      "image/png": "[encoded data removed]",
      "text/latex": [
       "$\\displaystyle 0$"
      ],
      "text/plain": [
       "0"
      ]
     },
     "execution_count": 38,
     "metadata": {},
     "output_type": "execute_result"
    }
   ],
   "source": [
    "#Si la fuerza se aplicase en el sentido del eje X el par es nulo\n",
    "F = 8*i\n",
    "M = OP.cross(F)\n",
    "M"
   ]
  },
  {
   "cell_type": "code",
   "execution_count": 39,
   "metadata": {},
   "outputs": [
    {
     "data": {
      "text/plain": [
       "[<matplotlib.lines.Line2D at 0x149b43ad848>]"
      ]
     },
     "execution_count": 39,
     "metadata": {},
     "output_type": "execute_result"
    },
    {
     "data": {
      "image/png": "[encoded data removed]",
      "text/plain": [
       "<Figure size 432x288 with 1 Axes>"
      ]
     },
     "metadata": {
      "needs_background": "light"
     },
     "output_type": "display_data"
    }
   ],
   "source": [
    "# Función genérica expresada según el ángulo alfa que forma la fuerza con el eje X\n",
    "# Para ello hay que descomponer la fuerza según los ejes X e Y\n",
    "# La magnitud es máxima cuando la fuerza se aplica perpendicularmente\n",
    "\n",
    "Fx, Fx, alfa = sp.symbols(\"FX FY alfa\")\n",
    "Fuerza = 8\n",
    "M_modulo = []\n",
    "angulo = np.linspace(-np.pi,np.pi,1000)\n",
    "for alfa in angulo:\n",
    "    Fx = Fuerza*sp.cos(alfa)\n",
    "    Fy = Fuerza*sp.sin(alfa)\n",
    "    F = Fx*i+Fy*j\n",
    "    M = OP.cross(F)\n",
    "    M_modulo.append(M.magnitude())\n",
    "plt.title(\"Magnitud del momento de fuerza\")\n",
    "plt.plot(angulo,M_modulo)\n"
   ]
  },
  {
   "cell_type": "markdown",
   "metadata": {},
   "source": [
    "---\n",
    "\n",
    "<font size=\"1\" color=\"grey\">\n",
    "    (c) 2020 Javier García Algarra. <a href='https://www.u-tad.com'>www.u-tad.com</a> <br>\n",
    "Licensed under a Creative Commons Reconocimiento 4.0 Internacional License\n",
    "</font> "
   ]
  }
 ],
 "metadata": {
  "kernelspec": {
   "display_name": "Python 3",
   "language": "python",
   "name": "python3"
  },
  "language_info": {
   "codemirror_mode": {
    "name": "ipython",
    "version": 3
   },
   "file_extension": ".py",
   "mimetype": "text/x-python",
   "name": "python",
   "nbconvert_exporter": "python",
   "pygments_lexer": "ipython3",
   "version": "3.7.4"
  }
 },
 "nbformat": 4,
 "nbformat_minor": 2
}
