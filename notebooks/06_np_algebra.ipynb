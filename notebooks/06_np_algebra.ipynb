{
 "cells": [
  {
   "cell_type": "markdown",
   "metadata": {},
   "source": [
    "<font size = 1 color=\"gray\">Introducción a la computación numérica y simbólica con Python</font>  \n",
    "<img src=\"img/logo-vector-u-tad.jpg\" align=\"left\" >"
   ]
  },
  {
   "cell_type": "markdown",
   "metadata": {},
   "source": [
    "# 6. Matrices"
   ]
  },
  {
   "cell_type": "markdown",
   "metadata": {},
   "source": [
    "Las aplicaciones del álgebra son ilimitadas. Con `numpy` disponemos de todas las herramientas necesarias para un manejo óptimo de vectores y matrices, algo de lo que carece el core de Python."
   ]
  },
  {
   "cell_type": "code",
   "execution_count": 1,
   "metadata": {},
   "outputs": [
    {
     "name": "stdout",
     "output_type": "stream",
     "text": [
      "Matriz A: [[1, 2, 7], [0.6, 3, 4]]  filas:  2  columnas:  3\n",
      "A[0,0] =  1 ; A[1,2] =  4\n"
     ]
    }
   ],
   "source": [
    "# Creación de matrices sin usar numpy.\n",
    "# \n",
    "# Pueden construirse matrices sin recurrir al paquete numpy\n",
    "# usando listas de listas\n",
    "A = [[1,2,7],[0.6, 3,4]]\n",
    "print(\"Matriz A:\",A,\" filas: \",len(A),\" columnas: \",len(A[0]))\n",
    "print(\"A[0,0] = \",A[0][0],\"; A[1,2] = \",A[1][2])\n"
   ]
  },
  {
   "cell_type": "markdown",
   "metadata": {},
   "source": [
    "Aparentemente esto serviría, pero las operaciones no funcionan como esperamos, porque\n",
    "Python entiende que son listas.\n",
    "\n",
    "Esto es lo que ocurre si intentamos sumar matrices."
   ]
  },
  {
   "cell_type": "code",
   "execution_count": 2,
   "metadata": {},
   "outputs": [
    {
     "name": "stdout",
     "output_type": "stream",
     "text": [
      "A + B =  [[1, 2, 7], [0.6, 3, 4], [1, 0, 1], [0.4, 0, 0]]\n"
     ]
    }
   ],
   "source": [
    "B = [[1,0,1],[0.4,0,0]]\n",
    "print(\"A + B = \",A+B)"
   ]
  },
  {
   "cell_type": "markdown",
   "metadata": {},
   "source": [
    "El resultado es que Python crea una nueva lista que es la concatenación de A y B, no una suma de matrices."
   ]
  },
  {
   "cell_type": "markdown",
   "metadata": {},
   "source": [
    "## Creación"
   ]
  },
  {
   "cell_type": "markdown",
   "metadata": {},
   "source": [
    "Podríamos crear la clase matriz y definir todas las operaciones, pero para eso ya está `numpy`."
   ]
  },
  {
   "cell_type": "code",
   "execution_count": 4,
   "metadata": {},
   "outputs": [
    {
     "name": "stdout",
     "output_type": "stream",
     "text": [
      "Matriz A\n",
      "[[1.  2.  7. ]\n",
      " [0.6 3.  4. ]]\n",
      "\n",
      "filas:  2  columnas  3\n",
      "A[0,0] =  1.0 ; A[1,2] =  4.0\n",
      "\n",
      "Matriz B\n",
      "[[1.  0.  1. ]\n",
      " [0.4 0.  0. ]]\n"
     ]
    }
   ],
   "source": [
    "import numpy as np\n",
    "A = np.array([[1,2,7],[0.6,3,4]])\n",
    "print(\"Matriz A\")\n",
    "print(A)\n",
    "print()\n",
    "print(\"filas: \",A.shape[0],\" columnas \",A.shape[1])\n",
    "print(\"A[0,0] = \",A[0][0],\"; A[1,2] = \",A[1][2])\n",
    "print()\n",
    "B = np.array([[1,0,1],[0.4,0,0]])\n",
    "print(\"Matriz B\")\n",
    "print(B)"
   ]
  },
  {
   "cell_type": "markdown",
   "metadata": {},
   "source": [
    "## Operaciones"
   ]
  },
  {
   "cell_type": "code",
   "execution_count": 6,
   "metadata": {},
   "outputs": [
    {
     "name": "stdout",
     "output_type": "stream",
     "text": [
      "Matriz A\n",
      "[[1.  2.  7. ]\n",
      " [0.6 3.  4. ]]\n",
      "Matriz B\n",
      "[[1.  0.  1. ]\n",
      " [0.4 0.  0. ]]\n",
      "\n",
      "A + B\n",
      "[[2. 2. 8.]\n",
      " [1. 3. 4.]]\n",
      "\n",
      "A - B\n",
      "[[0.  2.  6. ]\n",
      " [0.2 3.  4. ]]\n",
      "\n",
      "2 x A\n",
      "[[ 2.   4.  14. ]\n",
      " [ 1.2  6.   8. ]]\n",
      "\n",
      "A * B\n",
      "[[1.   0.   7.  ]\n",
      " [0.24 0.   0.  ]]\n"
     ]
    }
   ],
   "source": [
    "# Operaciones con matrices\n",
    "print(\"Matriz A\")\n",
    "print(A)\n",
    "print(\"Matriz B\")\n",
    "print(B)\n",
    "print()\n",
    "print(\"A + B\")\n",
    "print(A+B)\n",
    "print()\n",
    "print(\"A - B\")\n",
    "print(A-B)\n",
    "print()\n",
    "print(\"2 x A\")\n",
    "print(2*A)\n",
    "print()\n",
    "# El operador * multiplica elemento a elemento, es decir c[ji] = a[ji] x b [ji]\n",
    "print(\"A * B\")\n",
    "print(A*B)"
   ]
  },
  {
   "cell_type": "markdown",
   "metadata": {},
   "source": [
    "El producto de matrices se consigue usando el método dot(). Tal y como hemos definido A y B no pueden multiplicarse porque sus dimensions son incompatibles. Si podríamos multiplicar por la traspuesta de B."
   ]
  },
  {
   "cell_type": "code",
   "execution_count": 7,
   "metadata": {},
   "outputs": [
    {
     "name": "stdout",
     "output_type": "stream",
     "text": [
      "Matriz A\n",
      "[[1.  2.  7. ]\n",
      " [0.6 3.  4. ]]\n",
      "Matriz B transpuesta\n",
      "[[1.  0.4]\n",
      " [0.  0. ]\n",
      " [1.  0. ]]\n",
      "\n",
      "C = A x B'\n",
      "[[8.   0.4 ]\n",
      " [4.6  0.24]]\n"
     ]
    }
   ],
   "source": [
    "print(\"Matriz A\")\n",
    "print(A)\n",
    "Btransp = B.transpose()\n",
    "print(\"Matriz B transpuesta\")\n",
    "print(Btransp)\n",
    "print()\n",
    "print(\"C = A x B'\")\n",
    "C = A.dot(Btransp)\n",
    "print(C)"
   ]
  },
  {
   "cell_type": "markdown",
   "metadata": {},
   "source": [
    "A partir de la versión 3.5 se añadió el operador `@` para multiplicar vectores por matrices.\n",
    "Supongdamos que tenemos el vector E = [1 1 1] que queremos multiplicar por A.\n",
    "\n",
    "`A @ E` realiza el producto matricial de A por la traspuesta de E\n"
   ]
  },
  {
   "cell_type": "code",
   "execution_count": 10,
   "metadata": {},
   "outputs": [
    {
     "name": "stdout",
     "output_type": "stream",
     "text": [
      "Matriz A\n",
      "[[1.  2.  7. ]\n",
      " [0.6 3.  4. ]]\n",
      "Vector E\n",
      "[1 1 1]\n",
      "\n",
      "A @ E\n",
      "[10.   7.6]\n"
     ]
    }
   ],
   "source": [
    "print(\"Matriz A\")\n",
    "print(A)\n",
    "E = np.array([1,1,1])\n",
    "print(\"Vector E\")\n",
    "print(E)\n",
    "print()\n",
    "print(\"A @ E\")\n",
    "print(A @ E)"
   ]
  },
  {
   "cell_type": "markdown",
   "metadata": {},
   "source": [
    "## Algebra lineal elemental"
   ]
  },
  {
   "cell_type": "markdown",
   "metadata": {},
   "source": [
    "Como C es una matriz cuadrada podemos calcular su determinante"
   ]
  },
  {
   "cell_type": "code",
   "execution_count": 11,
   "metadata": {},
   "outputs": [
    {
     "name": "stdout",
     "output_type": "stream",
     "text": [
      "Matriz C\n",
      "[[8.   0.4 ]\n",
      " [4.6  0.24]]\n",
      "El determinante de C es: 0.0800\n"
     ]
    }
   ],
   "source": [
    "print(\"Matriz C\")\n",
    "print(C)\n",
    "valdet = np.linalg.det(C)\n",
    "print(\"El determinante de C es: {:0.4f}\".format(valdet))"
   ]
  },
  {
   "cell_type": "markdown",
   "metadata": {},
   "source": [
    "La matriz inversa es la traspuesta de la adjunta dividida por su determinante\n",
    "$A^{-1} = (A*)'/|A|$\n",
    "\n",
    "`numpy` no ofrece la adjunta pero sí la inversa"
   ]
  },
  {
   "cell_type": "code",
   "execution_count": 12,
   "metadata": {},
   "outputs": [
    {
     "name": "stdout",
     "output_type": "stream",
     "text": [
      "Matriz M\n",
      "[[1 2]\n",
      " [3 4]]\n",
      "Inversa de M\n",
      "[[-2.   1. ]\n",
      " [ 1.5 -0.5]]\n",
      "M * Inv(M)\n",
      "[[1.00000000e+00 1.11022302e-16]\n",
      " [0.00000000e+00 1.00000000e+00]]\n"
     ]
    }
   ],
   "source": [
    "M = np.array([[1,2],[3,4]])\n",
    "Minv = np.linalg.inv(M)\n",
    "\n",
    "print(\"Matriz M\")\n",
    "print(M)\n",
    "print(\"Inversa de M\")\n",
    "print(Minv)\n",
    "print(\"M * Inv(M)\")\n",
    "MMinv = M@Minv\n",
    "print(MMinv)"
   ]
  },
  {
   "cell_type": "markdown",
   "metadata": {},
   "source": [
    "Aquí se ve uno de los problemas al trabajar con punto flotante y matrices, el resultado no es exactamente la matriz identidad."
   ]
  },
  {
   "cell_type": "code",
   "execution_count": 13,
   "metadata": {},
   "outputs": [
    {
     "name": "stdout",
     "output_type": "stream",
     "text": [
      "[[False False]\n",
      " [ True False]]\n"
     ]
    }
   ],
   "source": [
    "IdMatrix = [[1.,0],[0,1.]]\n",
    "print( IdMatrix == MMinv)"
   ]
  },
  {
   "cell_type": "markdown",
   "metadata": {},
   "source": [
    "Para solucionarlo, numpy proporciona la función `isclose()` a la que se pasan como parámetros la\n",
    "tolerancia absoluya y/o relativa"
   ]
  },
  {
   "cell_type": "code",
   "execution_count": 14,
   "metadata": {},
   "outputs": [
    {
     "name": "stdout",
     "output_type": "stream",
     "text": [
      "[[ True  True]\n",
      " [ True  True]]\n"
     ]
    }
   ],
   "source": [
    "print(np.isclose(IdMatrix, MMinv, rtol=1e-05))"
   ]
  },
  {
   "cell_type": "markdown",
   "metadata": {},
   "source": [
    "Para comprobar si todos los elementos son iguales, se usa `np.allclose()`"
   ]
  },
  {
   "cell_type": "code",
   "execution_count": 16,
   "metadata": {},
   "outputs": [
    {
     "name": "stdout",
     "output_type": "stream",
     "text": [
      "¿Son iguales la matriz identidad y el producto de una matriz por su inversa?\n",
      "True\n"
     ]
    }
   ],
   "source": [
    "print(\"¿Son iguales la matriz identidad y el producto de una matriz por su inversa?\")\n",
    "print(np.allclose(IdMatrix, MMinv, rtol=1e-5))"
   ]
  },
  {
   "cell_type": "markdown",
   "metadata": {},
   "source": [
    "## Resolución de sistemas de ecuaciones lineales\n",
    "\n",
    "Si tenemos un sistema de ecuaciones lineales de la siguiente forma:\n",
    "    \n",
    "$ a_{11}x_1+a_{12}x_2+ ... +a_{1j}x_j = b_1 $\n",
    "\n",
    "$ a_{21}x_1+a_{22}x_2+ ... +a_{2j}x_j = b_2 $\n",
    "\n",
    "$...$\n",
    "\n",
    "$ a_{m1}x_1+a_{m2}x_2+ ... +a_{mj}x_j = b_m $\n",
    "\n",
    "Podemos escribirla de una forma compacta como $Ax = B$, donde $A$ es la matriz de los coeficientes de la incógnitas y $B$ el vector columna con los términos independientes. Si llamamos $A^*$ a la matriz $A$ a la que se añade el vector columna $B$, entonces:\n",
    "\n",
    "- Si $rango(A) = rango(A^*) = j$, el sistema es compatible determinado y los valores pueden obtenerse por la regla de Cramer.\n",
    "\n",
    "- Si $rango(A) = rango(A^*) < j$, el sistema es compatible indeterminado, hay infinitas soluciones quue son combinaciones lineales. No puede resolverse de forma numérica, sí de simbólica como se verá más adelante.\n",
    "\n",
    "- Si $rango(A) \\not= rango(A^*)$ el sistema de ecuaciones es incompatible."
   ]
  },
  {
   "cell_type": "markdown",
   "metadata": {},
   "source": [
    "Ejemplo, encontrar el punto de corte de las rectas\n",
    "\n",
    "$ -3x + y = -3 $\n",
    "\n",
    "$ 4x + 2y = 5 $"
   ]
  },
  {
   "cell_type": "code",
   "execution_count": 17,
   "metadata": {},
   "outputs": [
    {
     "name": "stdout",
     "output_type": "stream",
     "text": [
      "El rango de A es 2  el sistema es compatible determinado\n"
     ]
    }
   ],
   "source": [
    "A = np.array([[-3,1],[4,2]])\n",
    "b = np.array([-3,5])\n",
    "print(\"El rango de A es {:d}\".format(np.linalg.matrix_rank(A)),\" el sistema es compatible determinado\")"
   ]
  },
  {
   "cell_type": "code",
   "execution_count": 18,
   "metadata": {},
   "outputs": [],
   "source": [
    "detA = np.linalg.det(A)"
   ]
  },
  {
   "cell_type": "code",
   "execution_count": 19,
   "metadata": {},
   "outputs": [
    {
     "name": "stdout",
     "output_type": "stream",
     "text": [
      "Soluciones por Cramer x = 1.1000,y = 0.3000\n"
     ]
    }
   ],
   "source": [
    "x = np.linalg.det(np.array([[-3,1],[5,2]]))/detA\n",
    "y = np.linalg.det(np.array([[-3,-3],[4,5]]))/detA\n",
    "print(\"Soluciones por Cramer x = {:.4f},y = {:.4f}\".format(x,y))"
   ]
  },
  {
   "cell_type": "markdown",
   "metadata": {},
   "source": [
    "El paquete `numpy` ofrece un método para encontrar la solución en un solo paso"
   ]
  },
  {
   "cell_type": "code",
   "execution_count": 20,
   "metadata": {},
   "outputs": [
    {
     "name": "stdout",
     "output_type": "stream",
     "text": [
      "Soluciones con el método solve:  [1.1 0.3]\n"
     ]
    }
   ],
   "source": [
    "solus = np.linalg.solve(A,b)\n",
    "print(\"Soluciones con el método solve: \",solus)"
   ]
  },
  {
   "cell_type": "markdown",
   "metadata": {},
   "source": [
    "---\n",
    "\n",
    "<font size=\"1\" color=\"grey\">\n",
    "    (c) 2020 Javier García Algarra. <a href='https://www.u-tad.com'>www.u-tad.com</a> <br>\n",
    "Licensed under a Creative Commons Reconocimiento 4.0 Internacional License\n",
    "</font> "
   ]
  }
 ],
 "metadata": {
  "kernelspec": {
   "display_name": "Python 3",
   "language": "python",
   "name": "python3"
  },
  "language_info": {
   "codemirror_mode": {
    "name": "ipython",
    "version": 3
   },
   "file_extension": ".py",
   "mimetype": "text/x-python",
   "name": "python",
   "nbconvert_exporter": "python",
   "pygments_lexer": "ipython3",
   "version": "3.7.4"
  }
 },
 "nbformat": 4,
 "nbformat_minor": 2
}
