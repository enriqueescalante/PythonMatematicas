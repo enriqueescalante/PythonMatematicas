{
 "cells": [
  {
   "cell_type": "markdown",
   "metadata": {},
   "source": [
    "<font size = 1 color=\"gray\">Introducción a la computación numérica y simbólica con Python</font>  \n",
    "\n",
    "<img src=\"img/logo-vector-u-tad.jpg\" align=\"left\" >"
   ]
  },
  {
   "cell_type": "markdown",
   "metadata": {},
   "source": [
    "# 7. Computación simbólica\n",
    "\n",
    "El lenguaje de las matemáticas no es numérico, sino simbólico. Los humanos somos capaces de manejar información abstracta que nos permite realizar transformaciones del siguiente tipo:\n",
    "\n",
    "$f(x) = x^2-x-2 = (x+1)(x-2)$\n",
    "\n",
    "${d^2 sen(3x)\\over dx^2} = -9\\ cos(3x)$\n",
    "\n",
    "Existen programas como $\\it{Maple}$ o $\\it{Mathematica}$ que trabajan con símbolos. Son muy potentes pero tienen un precio de licencia elevado. Existe una alternativa open source basada en Python, el paquete `SymPy`.\n",
    "\n",
    "`SymPy` puede ejecutarse online en la URL https://live.sympy.org\n",
    "\n",
    "NOTA: En estos notebooks usamos LaTeX para construir las fórmulas en la parte descriptiva."
   ]
  },
  {
   "cell_type": "markdown",
   "metadata": {},
   "source": [
    "## Definición de símbolos\n",
    "\n",
    "Cuando trabajamos con Python o cualquier otro lenguaje común de programación, estamos acostumbrados a usar variables\n",
    "con las que operamos."
   ]
  },
  {
   "cell_type": "code",
   "execution_count": 1,
   "metadata": {},
   "outputs": [],
   "source": [
    "import sympy as sp\n",
    "import numpy as np\n",
    "import matplotlib.pyplot as plt"
   ]
  },
  {
   "cell_type": "code",
   "execution_count": 2,
   "metadata": {},
   "outputs": [
    {
     "name": "stdout",
     "output_type": "stream",
     "text": [
      "El resultado de la operación a + b es  15\n"
     ]
    }
   ],
   "source": [
    "a = 7\n",
    "b = 8\n",
    "print(\"El resultado de la operación a + b es \",a+b)"
   ]
  },
  {
   "cell_type": "markdown",
   "metadata": {},
   "source": [
    "Con `SymPy` podemos emplear símbolos."
   ]
  },
  {
   "cell_type": "code",
   "execution_count": 3,
   "metadata": {},
   "outputs": [
    {
     "name": "stdout",
     "output_type": "stream",
     "text": [
      "El resultado de la operación x + y en SympPy es x + y\n"
     ]
    }
   ],
   "source": [
    "x = sp.symbols('x')\n",
    "y = sp.symbols('y')\n",
    "print('El resultado de la operación x + y en SympPy es',x+y)"
   ]
  },
  {
   "cell_type": "markdown",
   "metadata": {},
   "source": [
    "Se han definido dos símbolos $x$,$y$ y el resultado es un nuevo símbolo $x+y$, no un valor numérico. Con SymPy se pueden realizar operaciones simbólicas de mayor complejidad."
   ]
  },
  {
   "cell_type": "code",
   "execution_count": 4,
   "metadata": {},
   "outputs": [
    {
     "name": "stdout",
     "output_type": "stream",
     "text": [
      "El producto de los factores ( x + 1 )( x - 2 ) es (x - 2)*(x + 1)\n"
     ]
    }
   ],
   "source": [
    "factor1 = x+1\n",
    "factor2 = x-2\n",
    "pfact = factor1*factor2\n",
    "print(\"El producto de los factores (\",factor1,\")(\",factor2, \") es\",pfact)"
   ]
  },
  {
   "cell_type": "markdown",
   "metadata": {},
   "source": [
    "Aparentemente no ha ocurrido nada, salvo que la expresión aparece con la sintaxis propia de Python. Podemos hacer que el polinomio aparezca desarrollado."
   ]
  },
  {
   "cell_type": "code",
   "execution_count": 5,
   "metadata": {},
   "outputs": [
    {
     "name": "stdout",
     "output_type": "stream",
     "text": [
      "El producto de los factores ( x + 1 )( x - 2 ) es x**2 - x - 2\n"
     ]
    }
   ],
   "source": [
    "print(\"El producto de los factores (\",factor1,\")(\",factor2, \") es\",sp.expand(pfact))"
   ]
  },
  {
   "cell_type": "markdown",
   "metadata": {},
   "source": [
    "La función `sympyfy` convierte un texto en objetos SymPy siempre que la sintaxis sea correcta. Para que funcione correctamente los símbolos tienen que haberse definido."
   ]
  },
  {
   "cell_type": "code",
   "execution_count": 7,
   "metadata": {},
   "outputs": [
    {
     "name": "stdout",
     "output_type": "stream",
     "text": [
      "x**2/y\n"
     ]
    }
   ],
   "source": [
    "frac = sp.symbols('frac')\n",
    "frac = sp.sympify('x**2/y')\n",
    "print(frac)"
   ]
  },
  {
   "cell_type": "markdown",
   "metadata": {},
   "source": [
    "## Tipos\n",
    "\n",
    "Aparte de los símbolos, `SymPy` puede manejar tipos de datos que no son los habituales en Python pero sí en el razonamiento matemático humano. Por ejemplo, podemos usar fracciones."
   ]
  },
  {
   "cell_type": "code",
   "execution_count": 9,
   "metadata": {},
   "outputs": [
    {
     "name": "stdout",
     "output_type": "stream",
     "text": [
      "var1 = 1/6\n",
      "var2 = 5/48\n",
      "Tipo de var2 <class 'sympy.core.numbers.Rational'>\n",
      "Valor de var2 en punto flotante con 10 decimales de precisión 0.1041666667\n",
      "var3 sqrt(2)\n",
      "Tipo de var3 <class 'sympy.core.power.Pow'>\n",
      "var2*var3 = 5*sqrt(2)/48\n",
      "Tipo de var2*var3  <class 'sympy.core.mul.Mul'> valor en punto flotante = 0.1473139127\n"
     ]
    }
   ],
   "source": [
    "# Fracciones\n",
    "var1 = sp.sympify('1/6')\n",
    "print(\"var1 =\",var1)\n",
    "var2 = sp.sympify('(5/8)')*var1\n",
    "print(\"var2 =\",var2)\n",
    "print(\"Tipo de var2\",type(var2))\n",
    "print(\"Valor de var2 en punto flotante con 10 decimales de precisión\",var2.evalf(10))\n"
   ]
  },
  {
   "cell_type": "markdown",
   "metadata": {},
   "source": [
    "También podemos usar potencias."
   ]
  },
  {
   "cell_type": "code",
   "execution_count": 11,
   "metadata": {},
   "outputs": [
    {
     "name": "stdout",
     "output_type": "stream",
     "text": [
      "var3 = sqrt(2)\n",
      "Tipo de var3 <class 'sympy.core.power.Pow'>\n",
      "var2*var3 = 5*sqrt(2)/48\n",
      "Tipo de var2*var3  <class 'sympy.core.mul.Mul'> valor en punto flotante = 0.1473139127\n"
     ]
    }
   ],
   "source": [
    "# Potencias\n",
    "var3= sp.sqrt(2)\n",
    "print(\"var3 =\",var3)\n",
    "print(\"Tipo de var3\",type(var3))\n",
    "print(\"var2*var3 =\",sp.Mul(var2,var3))\n",
    "print(\"Tipo de var2*var3 \",type(var2*var3),\"valor en punto flotante =\",(var2*var3).evalf(10))\n"
   ]
  },
  {
   "cell_type": "markdown",
   "metadata": {},
   "source": [
    "## Evaluación\n",
    "\n",
    "Con frecuencia, necesitamos evaluar una expresión simbólica para determinado valor. Si queremos conocer el valor de $f(x) = x^3 -x -2*cos(\\pi x)$ en el punto $x=0.3$, tenemos que usar el método `subs` para cambiar la incógnita por el valor y el método `evalf` para evaluar la expresión."
   ]
  },
  {
   "cell_type": "code",
   "execution_count": 13,
   "metadata": {},
   "outputs": [
    {
     "name": "stdout",
     "output_type": "stream",
     "text": [
      "La función es f(x)= x**3 - x - 2*cos(pi*x)\n",
      "Su valor para x = 3 es f(0.3) : -1.4485705\n"
     ]
    }
   ],
   "source": [
    "x,f = sp.symbols('x f')\n",
    "f = x**3 - x - 2*sp.cos(sp.pi * x)\n",
    "print(\"La función es f(x)=\",f)\n",
    "print(\"Su valor para x = 3 es f(0.3) :\",(f.subs(x,0.3)).evalf(8))      # El parámetro de evalf indica el número de cifras decimales"
   ]
  },
  {
   "cell_type": "markdown",
   "metadata": {},
   "source": [
    "Cuando usamos `SymPy` tenemos que tener mucho cuidado con las comparaciones. El operador `==` compara si dos expresiones son iguales."
   ]
  },
  {
   "cell_type": "code",
   "execution_count": 14,
   "metadata": {},
   "outputs": [
    {
     "name": "stdout",
     "output_type": "stream",
     "text": [
      "sin(x) == sin(x) True\n"
     ]
    }
   ],
   "source": [
    "x,y,z = sp.symbols('x y z')\n",
    "y = sp.sin(x)\n",
    "z = sp.sin(x)\n",
    "# los símbolos y,z son estructuralmente idénticos\n",
    "print(y,'==',z,y == z)"
   ]
  },
  {
   "cell_type": "markdown",
   "metadata": {},
   "source": [
    "Sin embargo `SymPy` no es capaz de detectar por defecto que $cos(2x) == cos^2(x)-sin^2(x)$ con el operador `==`, para eso hay que usar el método `equals`\n"
   ]
  },
  {
   "cell_type": "code",
   "execution_count": 15,
   "metadata": {},
   "outputs": [
    {
     "name": "stdout",
     "output_type": "stream",
     "text": [
      "cos(2*x) == -sin(x)**2 + cos(x)**2 False\n",
      "cos(2*x) equals -sin(x)**2 + cos(x)**2 True\n"
     ]
    }
   ],
   "source": [
    "a,b = sp.symbols('a b')\n",
    "a = sp.cos(x)**2 - sp.sin(x)**2\n",
    "b = sp.cos(2*x)\n",
    "print(b,'==',a,b==a)\n",
    "\n",
    "# Pero sí es capaz de hacerlo con el método equals\n",
    "print(b,\"equals\",a,a.equals(b))\n"
   ]
  },
  {
   "cell_type": "markdown",
   "metadata": {},
   "source": [
    "Podemos dibujar la gráfica de la función usando este mismo procedimiento."
   ]
  },
  {
   "cell_type": "markdown",
   "metadata": {},
   "source": [
    "## SymPy para gráficas\n",
    "\n",
    "Podemos usar el método `evalf` para calcular punto a punto el valor de una expresión que queremos representar gráficamente."
   ]
  },
  {
   "cell_type": "code",
   "execution_count": 17,
   "metadata": {},
   "outputs": [
    {
     "name": "stdout",
     "output_type": "stream",
     "text": [
      "La función es f(x)= x**3 - x - 2*cos(pi*x)\n"
     ]
    },
    {
     "data": {
      "image/png": "[encoded data removed]",
      "text/plain": [
       "<Figure size 576x360 with 1 Axes>"
      ]
     },
     "metadata": {
      "needs_background": "light"
     },
     "output_type": "display_data"
    }
   ],
   "source": [
    "f = x**3 - x - 2*sp.cos(sp.pi * x)\n",
    "print(\"La función es f(x)=\",f)\n",
    "# Vector de valores x\n",
    "xpuntos = np.linspace(0,2,100)\n",
    "ypuntos = []\n",
    "for i in xpuntos:\n",
    "    ypuntos.append((f.subs(x,i)).evalf(8)) # Evaluación de f(x) en cada punto\n",
    "plt.figure(figsize=(8,5)) # tamaño de la gráfica en pulgadas\n",
    "plt.plot(xpuntos,ypuntos)\n",
    "plt.title('$x^3-x-2cos(\\pi x)$')\n",
    "plt.xlabel('$x$') # título del eje horizontal\n",
    "plt.ylabel('$y$') # título del eje  vertical\n",
    "plt.show()"
   ]
  },
  {
   "cell_type": "markdown",
   "metadata": {},
   "source": [
    "Hay una manera más eficiente de evaluar en múltiples puntos, la función `lambdify`."
   ]
  },
  {
   "cell_type": "code",
   "execution_count": 18,
   "metadata": {},
   "outputs": [
    {
     "data": {
      "image/png": "[encoded data removed]",
      "text/plain": [
       "<Figure size 432x288 with 1 Axes>"
      ]
     },
     "metadata": {
      "needs_background": "light"
     },
     "output_type": "display_data"
    }
   ],
   "source": [
    "expresionmat = sp.symbols('expresionmat')\n",
    "a = np.linspace(0,2*np.pi,1000) \n",
    "expresionmat = sp.sin(x)**(3)-2*sp.cos(3*x)+sp.log(1+x)*0.1\n",
    "f = sp.lambdify(x, expresionmat, \"numpy\")  # Convierte la expresión simbólica a la funciones equivalentes de de NumPy\n",
    "plt.plot(a,f(a)) \n",
    "plt.title(expresionmat)\n",
    "plt.show()"
   ]
  },
  {
   "cell_type": "markdown",
   "metadata": {},
   "source": [
    "## Presentación\n",
    "\n",
    "Una de las características más interesantes de `SymPy` es su capacidad de formatear la salida como en un texto matemático convencional."
   ]
  },
  {
   "cell_type": "code",
   "execution_count": 19,
   "metadata": {},
   "outputs": [
    {
     "name": "stdout",
     "output_type": "stream",
     "text": [
      "0.1*log(x + 1) + sin(x)**3 - 2*cos(3*x)\n"
     ]
    }
   ],
   "source": [
    "# La función f del ejemplo anterior está escrita con sintaxis Python que es la que entiende el lenguaje\n",
    "print(expresionmat)"
   ]
  },
  {
   "cell_type": "code",
   "execution_count": 20,
   "metadata": {},
   "outputs": [
    {
     "name": "stdout",
     "output_type": "stream",
     "text": [
      "                    3                \n",
      "0.1⋅log(x + 1) + sin (x) - 2⋅cos(3⋅x)\n"
     ]
    },
    {
     "data": {
      "image/png": "[encoded data removed]",
      "text/latex": [
       "$\\displaystyle 0.1 \\log{\\left(x + 1 \\right)} + \\sin^{3}{\\left(x \\right)} - 2 \\cos{\\left(3 x \\right)}$"
      ],
      "text/plain": [
       "                    3                \n",
       "0.1⋅log(x + 1) + sin (x) - 2⋅cos(3⋅x)"
      ]
     },
     "execution_count": 20,
     "metadata": {},
     "output_type": "execute_result"
    }
   ],
   "source": [
    "# SymPy permite presentar la misma expresión\n",
    "\n",
    "sp.init_printing() \n",
    "sp.pprint(expresionmat)\n",
    "expresionmat"
   ]
  },
  {
   "cell_type": "code",
   "execution_count": 21,
   "metadata": {},
   "outputs": [
    {
     "name": "stdout",
     "output_type": "stream",
     "text": [
      "IPython console for SymPy 1.4 (Python 3.7.4-64-bit) (ground types: python)\n",
      "\n",
      "These commands were executed:\n",
      ">>> from __future__ import division\n",
      ">>> from sympy import *\n",
      ">>> x, y, z, t = symbols('x y z t')\n",
      ">>> k, m, n = symbols('k m n', integer=True)\n",
      ">>> f, g, h = symbols('f g h', cls=Function)\n",
      ">>> init_printing()\n",
      "\n",
      "Documentation can be found at https://docs.sympy.org/1.4/\n",
      "\n"
     ]
    },
    {
     "data": {
      "image/png": "[encoded data removed]",
      "text/latex": [
       "$\\displaystyle 0.1 \\log{\\left(x + 1 \\right)} + \\sin^{3}{\\left(x \\right)} - 2 \\cos{\\left(3 x \\right)}$"
      ],
      "text/plain": [
       "                    3                \n",
       "0.1⋅log(x + 1) + sin (x) - 2⋅cos(3⋅x)"
      ]
     },
     "execution_count": 21,
     "metadata": {},
     "output_type": "execute_result"
    }
   ],
   "source": [
    "# Si el equipo tiene instalado LaTeX, la salida será aun más legible\n",
    "\n",
    "from sympy import init_session\n",
    "init_session(use_latex=True)\n",
    "expresionmat\n"
   ]
  },
  {
   "cell_type": "code",
   "execution_count": 22,
   "metadata": {},
   "outputs": [
    {
     "name": "stdout",
     "output_type": "stream",
     "text": [
      "√3⋅√3\n",
      "es igual a 3\n"
     ]
    }
   ],
   "source": [
    "x = sp.sqrt(3)\n",
    "pprint(Mul(x,  x, evaluate=False))\n",
    "print('es igual a',x*x)"
   ]
  },
  {
   "cell_type": "code",
   "execution_count": 23,
   "metadata": {},
   "outputs": [
    {
     "data": {
      "image/png": "[encoded data removed]",
      "text/latex": [
       "$\\displaystyle \\left[\\begin{matrix}a_{11} & a_{12}\\\\a_{21} & a_{22}\\end{matrix}\\right]$"
      ],
      "text/plain": [
       "⎡a₁₁  a₁₂⎤\n",
       "⎢        ⎥\n",
       "⎣a₂₁  a₂₂⎦"
      ]
     },
     "execution_count": 23,
     "metadata": {},
     "output_type": "execute_result"
    }
   ],
   "source": [
    "a11,a12,a21,a22 = symbols('a11 a12 a21 a22')\n",
    "A = sp.Matrix([\n",
    "            [a11, a12],\n",
    "            [a21, a22]\n",
    "    ])\n",
    "A"
   ]
  },
  {
   "cell_type": "code",
   "execution_count": 24,
   "metadata": {},
   "outputs": [
    {
     "data": {
      "image/png": "[encoded data removed]",
      "text/latex": [
       "$\\displaystyle \\left[\\begin{matrix}b_{11}\\\\b_{21}\\end{matrix}\\right]$"
      ],
      "text/plain": [
       "⎡b₁₁⎤\n",
       "⎢   ⎥\n",
       "⎣b₂₁⎦"
      ]
     },
     "execution_count": 24,
     "metadata": {},
     "output_type": "execute_result"
    }
   ],
   "source": [
    "b11,b21 = symbols('b11 b21')\n",
    "B = sp.Matrix([[b11, b21]])\n",
    "B.T"
   ]
  },
  {
   "cell_type": "code",
   "execution_count": 25,
   "metadata": {},
   "outputs": [
    {
     "data": {
      "image/png": "[encoded data removed]",
      "text/latex": [
       "$\\displaystyle \\left[\\begin{matrix}a_{11} b_{11} + a_{12} b_{21}\\\\a_{21} b_{11} + a_{22} b_{21}\\end{matrix}\\right]$"
      ],
      "text/plain": [
       "⎡a₁₁⋅b₁₁ + a₁₂⋅b₂₁⎤\n",
       "⎢                 ⎥\n",
       "⎣a₂₁⋅b₁₁ + a₂₂⋅b₂₁⎦"
      ]
     },
     "execution_count": 25,
     "metadata": {},
     "output_type": "execute_result"
    }
   ],
   "source": [
    "C=A*B.T\n",
    "C"
   ]
  },
  {
   "cell_type": "markdown",
   "metadata": {},
   "source": [
    "---\n",
    "\n",
    "<font size=\"1\" color=\"grey\">\n",
    "    (c) 2020 Javier García Algarra. <a href='https://www.u-tad.com'>www.u-tad.com</a> <br>\n",
    "Licensed under a Creative Commons Reconocimiento 4.0 Internacional License\n",
    "</font> "
   ]
  }
 ],
 "metadata": {
  "kernelspec": {
   "display_name": "Python 3",
   "language": "python",
   "name": "python3"
  },
  "language_info": {
   "codemirror_mode": {
    "name": "ipython",
    "version": 3
   },
   "file_extension": ".py",
   "mimetype": "text/x-python",
   "name": "python",
   "nbconvert_exporter": "python",
   "pygments_lexer": "ipython3",
   "version": "3.7.4"
  }
 },
 "nbformat": 4,
 "nbformat_minor": 2
}
