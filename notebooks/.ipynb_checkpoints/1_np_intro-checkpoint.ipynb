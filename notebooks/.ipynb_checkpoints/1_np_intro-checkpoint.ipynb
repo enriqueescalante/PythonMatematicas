{
 "cells": [
  {
   "cell_type": "markdown",
   "metadata": {},
   "source": [
    "<font size = 1 color=\"gray\">Introducción a la computación numérica y simbólica con Python</font>  \n",
    "<img src=\"img/logo-vector-u-tad.jpg\" align=\"left\" >"
   ]
  },
  {
   "cell_type": "markdown",
   "metadata": {},
   "source": [
    "# 1. Introducción a NumPy, SciPy"
   ]
  },
  {
   "cell_type": "markdown",
   "metadata": {},
   "source": [
    "En esta primera lección vamos a ver algunos ejemplos muy simples de uso"
   ]
  },
  {
   "cell_type": "markdown",
   "metadata": {},
   "source": [
    "# Conjuntos"
   ]
  },
  {
   "cell_type": "code",
   "execution_count": 4,
   "metadata": {},
   "outputs": [
    {
     "name": "stdout",
     "output_type": "stream",
     "text": [
      "Conjunto original:  {0, 3, 4, 5}\n",
      "Conjunto tras añadir el 8:  {0, 3, 4, 5, 8}\n"
     ]
    }
   ],
   "source": [
    "set0 = {0,3,4,5}\n",
    "print(\"Conjunto original: \",set0)\n",
    "# Para añadir elementos podemos usar el método add\n",
    "# Solo puede añadirse un elemento cada vez, no es posible\n",
    "# pasar una lista como parámetro de entrada\n",
    "set0.add(8)\n",
    "print(\"Conjunto tras añadir el 8: \",set0)"
   ]
  },
  {
   "cell_type": "code",
   "execution_count": 3,
   "metadata": {},
   "outputs": [
    {
     "name": "stdout",
     "output_type": "stream",
     "text": [
      "Conjunto tras añadir 0, 3 y 7: {0, 3, 4, 5, 7, 8}\n",
      "Conjunto tras eliminar el 5: {0, 3, 4, 7, 8}\n"
     ]
    }
   ],
   "source": [
    "# Por definición, un elemento no puede repetirse. Si añadimos un nuevo\n",
    "# conjunto al original, com los elemento 0, 3 y 7, el resultado neto es\n",
    "# añadir el 7\n",
    "for j in [0,3,7]:                  # Podria hacerse con la operacion union en una linea\n",
    "    set0.add(j)\n",
    "print(\"Conjunto tras añadir 0, 3 y 7:\",set0)\n",
    "# Se puede eliminar un elemento con el método remove\n",
    "set0.remove(5)\n",
    "print(\"Conjunto tras eliminar el 5:\",set0)"
   ]
  },
  {
   "cell_type": "code",
   "execution_count": 4,
   "metadata": {},
   "outputs": [
    {
     "name": "stdout",
     "output_type": "stream",
     "text": [
      "set1  {'a', 'b', 'c', 'r', 'd'}\n",
      "set2  {'d', 'r'}\n"
     ]
    }
   ],
   "source": [
    "# Convertimos un string en conjunto\n",
    "set1 = set('abracadabra')\n",
    "set2 = {x for x in 'abracadabra' if x not in 'abc'}\n",
    "print(\"set1 \",set1)\n",
    "print(\"set2 \",set2)"
   ]
  },
  {
   "cell_type": "code",
   "execution_count": 5,
   "metadata": {},
   "outputs": [
    {
     "name": "stdout",
     "output_type": "stream",
     "text": [
      "set3  {0, 1, 2, 3, 4, 5, 6, 7}\n",
      "set4  {0, 2, 4, 6, 8}\n"
     ]
    }
   ],
   "source": [
    "set3 = set([i for i in range(8)])\n",
    "set4 = set([i for i in range(10) if i%2 == 0])\n",
    "print(\"set3 \",set3)\n",
    "print(\"set4 \",set4)"
   ]
  },
  {
   "cell_type": "code",
   "execution_count": 6,
   "metadata": {},
   "outputs": [
    {
     "name": "stdout",
     "output_type": "stream",
     "text": [
      "unión set3 set4 {0, 1, 2, 3, 4, 5, 6, 7, 8}\n",
      "intersección set3 set4 {0, 2, 4, 6}\n",
      "diferencia set3 set4 {1, 3, 5, 7}\n",
      "diferencia simétrica set3 set4 {1, 3, 5, 7, 8}\n"
     ]
    }
   ],
   "source": [
    "print(\"unión set3 set4\",set3.union(set4))\n",
    "print(\"intersección set3 set4\",set3.intersection(set4))\n",
    "print(\"diferencia set3 set4\",set3.difference(set4))\n",
    "print(\"diferencia simétrica set3 set4\",set3.symmetric_difference(set4))"
   ]
  },
  {
   "cell_type": "code",
   "execution_count": 7,
   "metadata": {},
   "outputs": [
    {
     "name": "stdout",
     "output_type": "stream",
     "text": [
      "Hay 6 números entre 1 y 100 divisibles por 3 y por 5:  {75, 45, 15, 90, 60, 30}\n",
      "Hay 4 números entre 1 y 100 divisibles por 3 y por 7:  {42, 84, 21, 63}\n"
     ]
    }
   ],
   "source": [
    "# Buscar los números entre 1 y 100 que son divisibles por dos primos usando conjuntos\n",
    "# Podría hacerse con una list comprehension, pero vamos a usar operaciones de conjuntos\n",
    "# Para ello, creamos los conjuntos de divisibles y hacemos la intersección\n",
    "\n",
    "def conjuntodivs(rango,divisor):\n",
    "    return(set([i+1 for i in range(rango) if ((i+1) % divisor == 0)]))\n",
    "\n",
    "# Primero vamos a probar con 3 y 5\n",
    "primoA = 3\n",
    "primoB = 5\n",
    "divisiblesA = conjuntodivs(100,primoA)\n",
    "divisiblesB = conjuntodivs(100,primoB)\n",
    "divAyB = divisiblesA.intersection(divisiblesB)\n",
    "# Observar que el conjunto no está ordenado\n",
    "print(\"Hay \"+str(len(divAyB))+\" números entre 1 y 100 divisibles por \"+\\\n",
    "       str(primoA)+\" y por \"+str(primoB)+\": \",divAyB)\n",
    "# Ahora vamos a buscar comunes entre 3 y 7\n",
    "primoB = 7\n",
    "divisiblesB = conjuntodivs(100,primoB)\n",
    "divAyB = divisiblesA.intersection(divisiblesB)\n",
    "# Observar que el conjunto no está ordenado\n",
    "print(\"Hay \"+str(len(divAyB))+\" números entre 1 y 100 divisibles por \"+\\\n",
    "       str(primoA)+\" y por \"+str(primoB)+\": \",divAyB)"
   ]
  },
  {
   "cell_type": "markdown",
   "metadata": {},
   "source": [
    "## Gráficas\n",
    "\n",
    "Ejemplos sencillos de uso de MATPLOTLIB\n"
   ]
  },
  {
   "cell_type": "code",
   "execution_count": 8,
   "metadata": {},
   "outputs": [
    {
     "data": {
      "text/plain": [
       "<Figure size 800x500 with 1 Axes>"
      ]
     },
     "metadata": {},
     "output_type": "display_data"
    }
   ],
   "source": [
    "import numpy as np\n",
    "import matplotlib.pyplot as plt\n",
    "\n",
    "# y = x^3 entre -1 y 1\n",
    "\n",
    "x = np.linspace(-1,1,60)\n",
    "y = x**3 - x**5\n",
    "plt.figure(figsize=(8,5)) # tamaño de la gráfica en pulgadas\n",
    "plt.title('Gráfica de $y = x^3 - x^5$') # Título icluyendo una fórmula LaTeX\n",
    "plt.xlabel('$x$') # título del eje horizontal\n",
    "plt.ylabel('$y$') # título del eje  vertical\n",
    "plt.plot(x, y, marker='.', label=r\"$x^3-x^5$\", color = \"red\") # leyenda\n",
    "plt.legend() # muestra la leyenda\n",
    "plt.show()   # muestra la gráfica"
   ]
  },
  {
   "cell_type": "code",
   "execution_count": 9,
   "metadata": {},
   "outputs": [
    {
     "data": {
      "image/png": "[encoded data removed]",
      "text/plain": [
       "<Figure size 576x360 with 1 Axes>"
      ]
     },
     "metadata": {
      "needs_background": "light"
     },
     "output_type": "display_data"
    }
   ],
   "source": [
    "# Suma de señales como en el ejemplo que vimos en la parte de introducción\n",
    "\n",
    "def sumsignals(f1=7.0, f2=68.0):\n",
    "    max_time = 0.5\n",
    "    plt.figure(figsize=(8,5))\n",
    "    times = np.linspace(0, max_time, 1000)\n",
    "    signal = np.sin(2 * np.pi * f1 * times) + 0.15 * np.sin(2 * np.pi * f2 * times)\n",
    "    with plt.style.context(\"ggplot\"):\n",
    "        plt.plot(signal, color=\"blue\")\n",
    "        plt.xlabel(\"Tiempo ($t$)\")\n",
    "        plt.title(\"Suma de señales\")\n",
    "\n",
    "sumsignals()"
   ]
  },
  {
   "cell_type": "markdown",
   "metadata": {},
   "source": [
    "---\n",
    "\n",
    "<font size=\"1\" color=\"grey\">\n",
    "    (c) 2020 Javier García Algarra. <a href='https://www.u-tad.com'>www.u-tad.com</a> <br>\n",
    "Licensed under a Creative Commons Reconocimiento 4.0 Internacional License\n",
    "</font> "
   ]
  }
 ],
 "metadata": {
  "kernelspec": {
   "display_name": "Python 3",
   "language": "python",
   "name": "python3"
  },
  "language_info": {
   "codemirror_mode": {
    "name": "ipython",
    "version": 3
   },
   "file_extension": ".py",
   "mimetype": "text/x-python",
   "name": "python",
   "nbconvert_exporter": "python",
   "pygments_lexer": "ipython3",
   "version": "3.7.4"
  }
 },
 "nbformat": 4,
 "nbformat_minor": 2
}
