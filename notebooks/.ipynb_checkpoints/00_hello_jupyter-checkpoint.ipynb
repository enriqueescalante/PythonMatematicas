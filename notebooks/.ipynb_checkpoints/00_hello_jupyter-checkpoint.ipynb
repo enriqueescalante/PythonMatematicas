{
 "cells": [
  {
   "cell_type": "markdown",
   "metadata": {},
   "source": [
    "<font size = 1 color=\"gray\">Introducción a la computación numérica y simbólica con Python</font>  \n",
    "<img src=\"img/logo-vector-u-tad.jpg\" align=\"left\" >"
   ]
  },
  {
   "cell_type": "markdown",
   "metadata": {},
   "source": [
    "# 0. Hello Jupyter"
   ]
  },
  {
   "cell_type": "markdown",
   "metadata": {},
   "source": [
    "Los notebook de Jupyter permiten mezclar texto (realmente hipertexto), código y resultado de ejecución en una misma página.\n",
    "\n",
    "Jupyter es un acrónimo de Julia, Python y R, los tres lenguajes para los que desarrolló originalmente."
   ]
  },
  {
   "cell_type": "markdown",
   "metadata": {},
   "source": [
    "## Texto"
   ]
  },
  {
   "cell_type": "markdown",
   "metadata": {},
   "source": [
    "Esto es un ejemplo de celda de texto enriquecido. Por ejemplo, podemos incluir una URL\n",
    "\n",
    "https://en.wikipedia.org/wiki/Project_Jupyter"
   ]
  },
  {
   "cell_type": "markdown",
   "metadata": {},
   "source": [
    "### Código"
   ]
  },
  {
   "cell_type": "code",
   "execution_count": 4,
   "metadata": {},
   "outputs": [
    {
     "name": "stdout",
     "output_type": "stream",
     "text": [
      "Hola mundo1\n",
      "Hola mundo2\n"
     ]
    }
   ],
   "source": [
    "for i in [1,2]:\n",
    "    print(\"Hola mundo\"+str(i))"
   ]
  },
  {
   "cell_type": "code",
   "execution_count": 9,
   "metadata": {},
   "outputs": [
    {
     "data": {
      "image/png": "[encoded data removed]",
      "text/plain": [
       "<Figure size 432x288 with 1 Axes>"
      ]
     },
     "metadata": {
      "needs_background": "light"
     },
     "output_type": "display_data"
    }
   ],
   "source": [
    "# Ejemplo de salida gráfica\n",
    "\n",
    "import matplotlib.pyplot as plt\n",
    "\n",
    "# Funcion para crear una lista de numeros que empieza en inferior y termina en superior\n",
    "# Este código es copia del script pinta_recta.py del curso de introducción\n",
    "\n",
    "def crea_lista_de_valores(inferior, superior):\n",
    "    listadevalores = []                          # Creamos una lista vacia\n",
    "    for j in range(inferior,superior+1):         # La variable j va tomando los valores del rango inferior a superior\n",
    "        listadevalores.append(j)                 # Cada valor de la variable j se añade a la lista\n",
    "    return(listadevalores)                       # Se devuelve la lista completa\n",
    "\n",
    "# Crear una lista de números enteros, del 1 al 10\n",
    "x_valores = crea_lista_de_valores(1,10)\n",
    "\n",
    "# Ahora vamos a crear los valores y. La formula de la recta es y = 2 * x\n",
    "# Recorremos los valores de x para crear otra lista de valores y\n",
    "# La lista de valores x es [1, 2, 3, 4, 5, 6, 7, 8, 9, 10]\n",
    "# y la lista de valores y será [2, 4, 6, 8, 10, 12, 14, 16, 18, 20]\n",
    "\n",
    "y_valores = []\n",
    "for k in x_valores:\n",
    "    y_valores.append(2 * k)\n",
    "    \n",
    "# Parte del programa que pinta la gráfica. Pasamos a la funcion plt.plot las listas de valores x e y\n",
    "plt.plot(x_valores, y_valores, \".\")\n",
    "plt.ylabel('y')            # Etiqueta del eje y. Podriamos no ponerla\n",
    "plt.xlabel('x')            # Etiqueta del eje x\n",
    "plt.show()                 # Esta función ordena mostrar la imagen en una ventanita nueva\n"
   ]
  },
  {
   "cell_type": "markdown",
   "metadata": {},
   "source": [
    "---\n",
    "\n",
    "<font size=\"1\" color=\"grey\">\n",
    "    (c) 2020 Javier García Algarra. <a href='https://www.u-tad.com'>www.u-tad.com</a> <br>\n",
    "Licensed under a Creative Commons Reconocimiento 4.0 Internacional License\n",
    "</font> "
   ]
  }
 ],
 "metadata": {
  "kernelspec": {
   "display_name": "Python 3",
   "language": "python",
   "name": "python3"
  },
  "language_info": {
   "codemirror_mode": {
    "name": "ipython",
    "version": 3
   },
   "file_extension": ".py",
   "mimetype": "text/x-python",
   "name": "python",
   "nbconvert_exporter": "python",
   "pygments_lexer": "ipython3",
   "version": "3.7.4"
  }
 },
 "nbformat": 4,
 "nbformat_minor": 2
}
